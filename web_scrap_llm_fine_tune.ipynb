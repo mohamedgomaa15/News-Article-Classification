{
  "cells": [
    {
      "cell_type": "code",
      "execution_count": 1,
      "metadata": {
        "colab": {
          "base_uri": "https://localhost:8080/"
        },
        "collapsed": true,
        "id": "a8AG3FfwnU7C",
        "outputId": "2e8c5c3a-5d56-434d-d018-16f9e6aa3312"
      },
      "outputs": [
        {
          "name": "stdout",
          "output_type": "stream",
          "text": [
            "Collecting evaluate\n",
            "  Downloading evaluate-0.4.6-py3-none-any.whl.metadata (9.5 kB)\n",
            "Requirement already satisfied: datasets>=2.0.0 in /usr/local/lib/python3.12/dist-packages (from evaluate) (4.0.0)\n",
            "Requirement already satisfied: numpy>=1.17 in /usr/local/lib/python3.12/dist-packages (from evaluate) (2.0.2)\n",
            "Requirement already satisfied: dill in /usr/local/lib/python3.12/dist-packages (from evaluate) (0.3.8)\n",
            "Requirement already satisfied: pandas in /usr/local/lib/python3.12/dist-packages (from evaluate) (2.2.2)\n",
            "Requirement already satisfied: requests>=2.19.0 in /usr/local/lib/python3.12/dist-packages (from evaluate) (2.32.4)\n",
            "Requirement already satisfied: tqdm>=4.62.1 in /usr/local/lib/python3.12/dist-packages (from evaluate) (4.67.1)\n",
            "Requirement already satisfied: xxhash in /usr/local/lib/python3.12/dist-packages (from evaluate) (3.5.0)\n",
            "Requirement already satisfied: multiprocess in /usr/local/lib/python3.12/dist-packages (from evaluate) (0.70.16)\n",
            "Requirement already satisfied: fsspec>=2021.05.0 in /usr/local/lib/python3.12/dist-packages (from fsspec[http]>=2021.05.0->evaluate) (2025.3.0)\n",
            "Requirement already satisfied: huggingface-hub>=0.7.0 in /usr/local/lib/python3.12/dist-packages (from evaluate) (0.35.3)\n",
            "Requirement already satisfied: packaging in /usr/local/lib/python3.12/dist-packages (from evaluate) (25.0)\n",
            "Requirement already satisfied: filelock in /usr/local/lib/python3.12/dist-packages (from datasets>=2.0.0->evaluate) (3.19.1)\n",
            "Requirement already satisfied: pyarrow>=15.0.0 in /usr/local/lib/python3.12/dist-packages (from datasets>=2.0.0->evaluate) (18.1.0)\n",
            "Requirement already satisfied: pyyaml>=5.1 in /usr/local/lib/python3.12/dist-packages (from datasets>=2.0.0->evaluate) (6.0.3)\n",
            "Requirement already satisfied: aiohttp!=4.0.0a0,!=4.0.0a1 in /usr/local/lib/python3.12/dist-packages (from fsspec[http]>=2021.05.0->evaluate) (3.12.15)\n",
            "Requirement already satisfied: typing-extensions>=3.7.4.3 in /usr/local/lib/python3.12/dist-packages (from huggingface-hub>=0.7.0->evaluate) (4.15.0)\n",
            "Requirement already satisfied: hf-xet<2.0.0,>=1.1.3 in /usr/local/lib/python3.12/dist-packages (from huggingface-hub>=0.7.0->evaluate) (1.1.10)\n",
            "Requirement already satisfied: charset_normalizer<4,>=2 in /usr/local/lib/python3.12/dist-packages (from requests>=2.19.0->evaluate) (3.4.3)\n",
            "Requirement already satisfied: idna<4,>=2.5 in /usr/local/lib/python3.12/dist-packages (from requests>=2.19.0->evaluate) (3.10)\n",
            "Requirement already satisfied: urllib3<3,>=1.21.1 in /usr/local/lib/python3.12/dist-packages (from requests>=2.19.0->evaluate) (2.5.0)\n",
            "Requirement already satisfied: certifi>=2017.4.17 in /usr/local/lib/python3.12/dist-packages (from requests>=2.19.0->evaluate) (2025.8.3)\n",
            "Requirement already satisfied: python-dateutil>=2.8.2 in /usr/local/lib/python3.12/dist-packages (from pandas->evaluate) (2.9.0.post0)\n",
            "Requirement already satisfied: pytz>=2020.1 in /usr/local/lib/python3.12/dist-packages (from pandas->evaluate) (2025.2)\n",
            "Requirement already satisfied: tzdata>=2022.7 in /usr/local/lib/python3.12/dist-packages (from pandas->evaluate) (2025.2)\n",
            "Requirement already satisfied: aiohappyeyeballs>=2.5.0 in /usr/local/lib/python3.12/dist-packages (from aiohttp!=4.0.0a0,!=4.0.0a1->fsspec[http]>=2021.05.0->evaluate) (2.6.1)\n",
            "Requirement already satisfied: aiosignal>=1.4.0 in /usr/local/lib/python3.12/dist-packages (from aiohttp!=4.0.0a0,!=4.0.0a1->fsspec[http]>=2021.05.0->evaluate) (1.4.0)\n",
            "Requirement already satisfied: attrs>=17.3.0 in /usr/local/lib/python3.12/dist-packages (from aiohttp!=4.0.0a0,!=4.0.0a1->fsspec[http]>=2021.05.0->evaluate) (25.3.0)\n",
            "Requirement already satisfied: frozenlist>=1.1.1 in /usr/local/lib/python3.12/dist-packages (from aiohttp!=4.0.0a0,!=4.0.0a1->fsspec[http]>=2021.05.0->evaluate) (1.7.0)\n",
            "Requirement already satisfied: multidict<7.0,>=4.5 in /usr/local/lib/python3.12/dist-packages (from aiohttp!=4.0.0a0,!=4.0.0a1->fsspec[http]>=2021.05.0->evaluate) (6.6.4)\n",
            "Requirement already satisfied: propcache>=0.2.0 in /usr/local/lib/python3.12/dist-packages (from aiohttp!=4.0.0a0,!=4.0.0a1->fsspec[http]>=2021.05.0->evaluate) (0.3.2)\n",
            "Requirement already satisfied: yarl<2.0,>=1.17.0 in /usr/local/lib/python3.12/dist-packages (from aiohttp!=4.0.0a0,!=4.0.0a1->fsspec[http]>=2021.05.0->evaluate) (1.20.1)\n",
            "Requirement already satisfied: six>=1.5 in /usr/local/lib/python3.12/dist-packages (from python-dateutil>=2.8.2->pandas->evaluate) (1.17.0)\n",
            "Downloading evaluate-0.4.6-py3-none-any.whl (84 kB)\n",
            "\u001b[2K   \u001b[90m━━━━━━━━━━━━━━━━━━━━━━━━━━━━━━━━━━━━━━━━\u001b[0m \u001b[32m84.1/84.1 kB\u001b[0m \u001b[31m4.9 MB/s\u001b[0m eta \u001b[36m0:00:00\u001b[0m\n",
            "\u001b[?25hInstalling collected packages: evaluate\n",
            "Successfully installed evaluate-0.4.6\n"
          ]
        }
      ],
      "source": [
        "!pip install evaluate"
      ]
    },
    {
      "cell_type": "code",
      "execution_count": 1,
      "metadata": {
        "id": "-yjr0nHYXfFI"
      },
      "outputs": [],
      "source": [
        "import http.client\n",
        "from urllib.parse import urlencode\n",
        "import json\n",
        "from bs4 import BeautifulSoup\n",
        "import pandas as pd\n",
        "import numpy as np\n",
        "import re\n",
        "from sklearn.preprocessing import LabelEncoder\n",
        "from sklearn.model_selection import train_test_split\n",
        "from datasets import Dataset\n",
        "from transformers import AutoTokenizer, AutoModelForSequenceClassification\n",
        "import huggingface_hub\n",
        "import evaluate\n",
        "from transformers import DataCollatorWithPadding\n",
        "from sklearn.metrics import classification_report\n",
        "from transformers import TrainingArguments, Trainer"
      ]
    },
    {
      "cell_type": "code",
      "execution_count": null,
      "metadata": {
        "id": "evLfG4JTZN5Z"
      },
      "outputs": [],
      "source": [
        "def crawl(url):\n",
        "    conn = http.client.HTTPSConnection(\"universalapi.thordata.com\")\n",
        "\n",
        "    payload = {\n",
        "        \"url\": url,\n",
        "        \"type\": \"html\",\n",
        "        \"js_render\": \"False\"\n",
        "    }\n",
        "\n",
        "    form_data = urlencode(payload)\n",
        "\n",
        "    headers = {\n",
        "        'Authorization': \"Bearer --\",\n",
        "        'content-type': \"application/x-www-form-urlencoded\"\n",
        "    }\n",
        "\n",
        "    conn.request(\"POST\", \"/request\", form_data, headers)\n",
        "\n",
        "    res = conn.getresponse()\n",
        "    data = res.read()\n",
        "\n",
        "    return data.decode(\"utf-8\"), res.status"
      ]
    },
    {
      "cell_type": "code",
      "execution_count": null,
      "metadata": {
        "id": "WdTOw_LUfeTc"
      },
      "outputs": [],
      "source": [
        "urls_to_crawl = {\n",
        "    \"politics\": \"https://www.npr.org/get/1014/render/partial/next\",\n",
        "    \"business\": \"https://www.npr.org/get/1006/render/partial/next\",\n",
        "    \"health\": \"https://www.npr.org/get/1128/render/partial/next\",\n",
        "    \"science\": \"https://www.npr.org/get/1007/render/partial/next\",\n",
        "    \"climate\": \"https://www.npr.org/get/1167/render/partial/next\",\n",
        "}"
      ]
    },
    {
      "cell_type": "code",
      "execution_count": null,
      "metadata": {
        "id": "P62SGTrGDQBX"
      },
      "outputs": [],
      "source": [
        "def get_text_from_article(url):\n",
        "   try:\n",
        "    crawled_page, status = crawl(url)\n",
        "    if status != 200:\n",
        "      return None\n",
        "    crawled_page_json = json.loads(crawled_page)\n",
        "    soup = BeautifulSoup(crawled_page_json['html'], 'html.parser')\n",
        "    div = soup.find('div', id='storytext')\n",
        "    if div is None:\n",
        "      return None\n",
        "    text_dev = div.get_text(strip=True, separator='\\n')\n",
        "    return text_dev\n",
        "   except:\n",
        "    return \"there is an error in 'get_text_from_article'\""
      ]
    },
    {
      "cell_type": "code",
      "execution_count": null,
      "metadata": {
        "collapsed": true,
        "id": "Y00sfoz4l53L"
      },
      "outputs": [],
      "source": [
        "def get_article_from_url(url, batch_size=10):\n",
        "  try:\n",
        "    start = 1\n",
        "    while True:\n",
        "      url = f\"{url}?start={start}&count={batch_size}\"\n",
        "      crawled_page, status = crawl(url)\n",
        "      if status != 200:\n",
        "        return None\n",
        "      crawled_page_json = json.loads(crawled_page)['html']\n",
        "      soup = BeautifulSoup(crawled_page_json, 'html.parser')\n",
        "      for article in soup.find_all('article'):\n",
        "        href = article.find('a')['href']\n",
        "        if href is None:\n",
        "          continue\n",
        "        text = get_text_from_article(href)\n",
        "        if text is None:\n",
        "          continue\n",
        "        yield text\n",
        "      start += batch_size\n",
        "  except:\n",
        "    return \"there is an error in 'get_article_from_url'\""
      ]
    },
    {
      "cell_type": "code",
      "execution_count": null,
      "metadata": {
        "colab": {
          "base_uri": "https://localhost:8080/"
        },
        "collapsed": true,
        "id": "1LxwtfzDzPoQ",
        "outputId": "5003961f-de2e-43e9-908c-00d7f354edeb"
      },
      "outputs": [
        {
          "name": "stdout",
          "output_type": "stream",
          "text": [
            "aricles crwaled politics: \n",
            "1\n",
            "2\n",
            "3\n",
            "4\n",
            "5\n",
            "6\n",
            "7\n",
            "8\n",
            "9\n",
            "10\n",
            "11\n",
            "12\n",
            "13\n",
            "14\n",
            "15\n",
            "16\n",
            "17\n",
            "18\n",
            "19\n",
            "20\n",
            "21\n",
            "22\n",
            "23\n",
            "24\n",
            "25\n",
            "26\n",
            "27\n",
            "28\n",
            "29\n",
            "30\n",
            "31\n",
            "32\n",
            "33\n",
            "34\n",
            "35\n",
            "36\n",
            "37\n",
            "38\n",
            "39\n",
            "40\n",
            "41\n",
            "42\n",
            "43\n",
            "44\n",
            "45\n",
            "46\n",
            "47\n",
            "48\n",
            "49\n",
            "50\n",
            "51\n",
            "52\n",
            "53\n",
            "54\n",
            "55\n",
            "56\n",
            "57\n",
            "58\n",
            "59\n",
            "60\n",
            "61\n",
            "62\n",
            "63\n",
            "64\n",
            "65\n",
            "66\n",
            "67\n",
            "68\n",
            "69\n",
            "70\n",
            "71\n",
            "72\n",
            "73\n",
            "74\n",
            "75\n",
            "76\n",
            "77\n",
            "78\n",
            "79\n",
            "80\n",
            "81\n",
            "82\n",
            "83\n",
            "84\n",
            "85\n",
            "86\n",
            "87\n",
            "88\n",
            "89\n",
            "90\n",
            "91\n",
            "92\n",
            "93\n",
            "94\n",
            "95\n",
            "96\n",
            "97\n",
            "98\n",
            "99\n",
            "100\n",
            "aricles crwaled business: \n",
            "1\n",
            "2\n",
            "3\n",
            "4\n",
            "5\n",
            "6\n",
            "7\n",
            "8\n",
            "9\n",
            "10\n",
            "11\n",
            "12\n",
            "13\n",
            "14\n",
            "15\n",
            "16\n",
            "17\n",
            "18\n",
            "19\n",
            "20\n",
            "21\n",
            "22\n",
            "23\n",
            "24\n",
            "25\n",
            "26\n",
            "27\n",
            "28\n",
            "29\n",
            "30\n",
            "31\n",
            "32\n",
            "33\n",
            "34\n",
            "35\n",
            "36\n",
            "37\n",
            "38\n",
            "39\n",
            "40\n",
            "41\n",
            "42\n",
            "43\n",
            "44\n",
            "45\n",
            "46\n",
            "47\n",
            "48\n",
            "49\n",
            "50\n",
            "51\n",
            "52\n",
            "53\n",
            "54\n",
            "55\n",
            "56\n",
            "57\n",
            "58\n",
            "59\n",
            "60\n",
            "61\n",
            "62\n",
            "63\n",
            "64\n",
            "65\n",
            "66\n",
            "67\n",
            "68\n",
            "69\n",
            "70\n",
            "71\n",
            "72\n",
            "73\n",
            "74\n",
            "75\n",
            "76\n",
            "77\n",
            "78\n",
            "79\n",
            "80\n",
            "81\n",
            "82\n",
            "83\n",
            "84\n",
            "85\n",
            "86\n",
            "87\n",
            "88\n",
            "89\n",
            "90\n",
            "91\n",
            "92\n",
            "93\n",
            "94\n",
            "95\n",
            "96\n",
            "97\n",
            "98\n",
            "99\n",
            "100\n",
            "aricles crwaled health: \n",
            "1\n",
            "2\n",
            "3\n",
            "4\n",
            "5\n",
            "6\n",
            "7\n",
            "8\n",
            "9\n",
            "10\n",
            "11\n",
            "12\n",
            "13\n",
            "14\n",
            "15\n",
            "16\n",
            "17\n",
            "18\n",
            "19\n",
            "20\n",
            "21\n",
            "22\n",
            "23\n",
            "24\n",
            "25\n",
            "26\n",
            "27\n",
            "28\n",
            "29\n",
            "30\n",
            "31\n",
            "32\n",
            "33\n",
            "34\n",
            "35\n",
            "36\n",
            "37\n",
            "38\n",
            "39\n",
            "40\n",
            "41\n",
            "42\n",
            "43\n",
            "44\n",
            "45\n",
            "46\n",
            "47\n",
            "48\n",
            "49\n",
            "50\n",
            "51\n",
            "52\n",
            "53\n",
            "54\n",
            "55\n",
            "56\n",
            "57\n",
            "58\n",
            "59\n",
            "60\n",
            "61\n",
            "62\n",
            "63\n",
            "64\n",
            "65\n",
            "66\n",
            "67\n",
            "68\n",
            "69\n",
            "70\n",
            "71\n",
            "72\n",
            "73\n",
            "74\n",
            "75\n",
            "76\n",
            "77\n",
            "78\n",
            "79\n",
            "80\n",
            "81\n",
            "82\n",
            "83\n",
            "84\n",
            "85\n",
            "86\n",
            "87\n",
            "88\n",
            "89\n",
            "90\n",
            "91\n",
            "92\n",
            "93\n",
            "94\n",
            "95\n",
            "96\n",
            "97\n",
            "98\n",
            "99\n",
            "100\n",
            "aricles crwaled science: \n",
            "1\n",
            "2\n",
            "3\n",
            "4\n",
            "5\n",
            "6\n",
            "7\n",
            "8\n",
            "9\n",
            "10\n",
            "11\n",
            "12\n",
            "13\n",
            "14\n",
            "15\n",
            "16\n",
            "17\n",
            "18\n",
            "19\n",
            "20\n",
            "21\n",
            "22\n",
            "23\n",
            "24\n",
            "25\n",
            "26\n",
            "27\n",
            "28\n",
            "29\n",
            "30\n",
            "31\n",
            "32\n",
            "33\n",
            "34\n",
            "35\n",
            "36\n",
            "37\n",
            "38\n",
            "39\n",
            "40\n",
            "41\n",
            "42\n",
            "43\n",
            "44\n",
            "45\n",
            "46\n",
            "47\n",
            "48\n",
            "49\n",
            "50\n",
            "51\n",
            "52\n",
            "53\n",
            "54\n",
            "55\n",
            "56\n",
            "57\n",
            "58\n",
            "59\n",
            "60\n",
            "61\n",
            "62\n",
            "63\n",
            "64\n",
            "65\n",
            "66\n",
            "67\n",
            "68\n",
            "69\n",
            "70\n",
            "71\n",
            "72\n",
            "73\n",
            "74\n",
            "75\n",
            "76\n",
            "77\n",
            "78\n",
            "79\n",
            "80\n",
            "81\n",
            "82\n",
            "83\n",
            "84\n",
            "85\n",
            "86\n",
            "87\n",
            "88\n",
            "89\n",
            "90\n",
            "91\n",
            "92\n",
            "93\n",
            "94\n",
            "95\n",
            "96\n",
            "97\n",
            "98\n",
            "99\n",
            "100\n",
            "aricles crwaled climate: \n",
            "1\n",
            "2\n",
            "3\n",
            "4\n",
            "5\n",
            "6\n",
            "7\n",
            "8\n",
            "9\n",
            "10\n",
            "11\n",
            "12\n",
            "13\n",
            "14\n",
            "15\n",
            "16\n",
            "17\n",
            "18\n",
            "19\n",
            "20\n",
            "21\n",
            "22\n",
            "23\n",
            "24\n",
            "25\n",
            "26\n",
            "27\n",
            "28\n",
            "29\n",
            "30\n",
            "31\n",
            "32\n",
            "33\n",
            "34\n",
            "35\n",
            "36\n",
            "37\n",
            "38\n",
            "39\n",
            "40\n",
            "41\n",
            "42\n",
            "43\n",
            "44\n",
            "45\n",
            "46\n",
            "47\n",
            "48\n",
            "49\n",
            "50\n",
            "51\n",
            "52\n",
            "53\n",
            "54\n",
            "55\n",
            "56\n",
            "57\n",
            "58\n",
            "59\n",
            "60\n",
            "61\n",
            "62\n",
            "63\n",
            "64\n",
            "65\n",
            "66\n",
            "67\n",
            "68\n",
            "69\n",
            "70\n",
            "71\n",
            "72\n",
            "73\n",
            "74\n",
            "75\n",
            "76\n",
            "77\n",
            "78\n",
            "79\n",
            "80\n",
            "81\n",
            "82\n",
            "83\n",
            "84\n",
            "85\n",
            "86\n",
            "87\n",
            "88\n",
            "89\n",
            "90\n",
            "91\n",
            "92\n",
            "93\n",
            "94\n",
            "95\n",
            "96\n",
            "97\n",
            "98\n",
            "99\n",
            "100\n"
          ]
        }
      ],
      "source": [
        "data = []\n",
        "for category, url in urls_to_crawl.items():\n",
        "  print(f\"aricles crwaled {category}: \")\n",
        "  articles_crawled = 1\n",
        "  for article_text in get_article_from_url(url):\n",
        "     data.append({\"news_category\": category, \"article\": article_text})\n",
        "     print(f\"{articles_crawled}\")\n",
        "     articles_crawled += 1\n",
        "     if articles_crawled > 100:\n",
        "      break"
      ]
    },
    {
      "cell_type": "code",
      "execution_count": null,
      "metadata": {
        "id": "kcG8jwTELJPb"
      },
      "outputs": [],
      "source": [
        "df = pd.DataFrame(data)\n",
        "df.to_csv(\"articles.csv\", index=False)"
      ]
    },
    {
      "cell_type": "markdown",
      "metadata": {
        "id": "b6neknhuREA4"
      },
      "source": [
        "##Data Cleaning and Preparation"
      ]
    },
    {
      "cell_type": "code",
      "execution_count": 2,
      "metadata": {
        "colab": {
          "base_uri": "https://localhost:8080/",
          "height": 206
        },
        "collapsed": true,
        "id": "2L5zSoJMRTNg",
        "outputId": "e2bf4d22-31b6-4abb-d4d5-d58ebab35d14"
      },
      "outputs": [
        {
          "data": {
            "application/vnd.google.colaboratory.intrinsic+json": {
              "summary": "{\n  \"name\": \"df\",\n  \"rows\": 500,\n  \"fields\": [\n    {\n      \"column\": \"news_category\",\n      \"properties\": {\n        \"dtype\": \"category\",\n        \"num_unique_values\": 5,\n        \"samples\": [\n          \"business\",\n          \"climate\",\n          \"health\"\n        ],\n        \"semantic_type\": \"\",\n        \"description\": \"\"\n      }\n    },\n    {\n      \"column\": \"article\",\n      \"properties\": {\n        \"dtype\": \"category\",\n        \"num_unique_values\": 44,\n        \"samples\": [\n          \"Andrew Baker of the University of Miami peers into a tank of corals from Honduras, selected from a reef that already endures hotter temperatures. Baker hopes breeding them with Florida coral will help pass on that ability.\\nLauren Sommer/NPR\\nhide caption\\ntoggle caption\\nLauren Sommer/NPR\\nIn a lab at the University of Miami, there are tanks of knobby, tan-colored corals from Florida, Honduras and the Cayman Islands. They've been drafted into a sort of coral Olympics, as scientists look for the ones that can best survive increasingly hotter ocean temperatures driven by climate change.\\nOver the past two years,\\n80% of the world's reefs\\nsaw dangerous levels of heat, which causes coral to bleach, turning a ghostly white color.\\nFlorida's reefs are on the front line of the crisis. Corals there bleached again this summer, and already more than\\n90% of the living coral\\noff the Florida Keys has died. So for decades, the focus has been on restoring reefs by growing and planting coral in the ocean, much like replanting a forest.\\nThe past three summers have been the worst on record for Florida's coral reefs, where weeks of heat stress have caused corals to bleach, turning them white. Coral can recover from bleaching, but prolonged heat will cause some to die.\\nCoral Restoration Foundation\\nhide caption\\ntoggle caption\\nCoral Restoration Foundation\\nIt's one of the largest coral restoration efforts in the world. But after much of the restored coral near Florida died in the recent marine heat wave, restoration groups have had to overhaul their strategy.\\nSponsor Message\\nScientists are now trying to breed corals that can tolerate heat better, speeding up the natural process of evolution. Florida coral has been crossbred with coral from Honduras, creating what researchers call \\\"Flonduran\\\" corals. For the first time in the U.S., those coral babies have been put into the wild in a controlled trial.\\nAndrew Baker (center) and his team at the University of Miami breed different types of coral in large tanks, searching for ones that can tolerate hotter ocean temperatures better.\\nLauren Sommer/NPR\\nhide caption\\ntoggle caption\\nLauren Sommer/NPR\\nResearchers are hopeful that Florida will develop a strategy that can be copied around the world to help ailing reefs. The question is whether it can be scaled up enough to make a meaningful difference \\u2014 or whether temperatures will simply get too hot for corals.\\n\\\"Florida occupies an unenviable position right now of having the world's coral reef eyes on it, because of the state of the resource and the fact that we are so dependent on it,\\\" says Andrew Baker, professor of marine biology and ecology at the University of Miami's Rosenstiel School of Marine, Atmospheric, and Earth Science. \\\"So if anywhere in the world is going to try to do something a little out of the box, it's Florida.\\\"\\nWhen corals collected from Honduras spawned, releasing their genetic material, scientists crossbred them with coral from Florida. Spawning only happens once or twice per year.\\nThe Florida Aquarium\\nhide caption\\ntoggle caption\\nThe Florida Aquarium\\nFlorida's ghost reefs\\nKen Nedimyer is one of the few people who know what Florida's reefs used to look like. He's been diving off the Florida Keys for more than 50 years and says the fields of coral used to be so dense, you couldn't swim through them. They were filled with delicate, branching corals known as elkhorn coral and staghorn coral, which resemble antlers.\\nClimate\\nScientists are breeding 'super corals.' Can they withstand climate change?\\n\\\"Just incredible,\\\" says Nedimyer, technical director of Reef Renewal USA, a coral restoration group. \\\"You could look left and right and forward and you couldn't see anything but that. These great big branches would go out 6 feet from the base, all interlaced into each other.\\\"\\nNow, those reefs are just a memory.\\n\\\"The elkhorn coral, except for maybe one or two reefs off Key Largo, it's all dead,\\\" Nedimyer says. \\\"All completely dead.\\\"\\nFlorida's coral reefs have declined for decades because of many threats, including poor water quality and damage from boating and human impacts. The waterborne Stony Coral Tissue Loss Disease spread as well, which kills some species of coral.\\nElkhorn coral, known for their wide branching arms, are sensitive to heat. Temperatures got so hot in 2023 that some corals didn't have time to bleach and died outright.\\nCoral Restoration Foundation\\nhide caption\\ntoggle caption\\nCoral Restoration Foundation\\nIn 2019, the National Oceanic and Atmospheric Administration (NOAA) started the\\nMission Iconic Reefs\\nprogram, setting a goal to restore coral cover from just 2% to 25% on seven reefs off the Florida Keys. NOAA works with nonprofits like Nedimyer's, which grow coral in nurseries and plant it on the reefs. In the first five years, about 40,000 corals were planted. To reach its goal, NOAA estimates it will need 5 million corals.\\nSponsor Message\\nThose coral restoration groups largely focused on elkhorn and staghorn corals, which grow quickly and provide key habitat for fish and marine life.\\nThose branching corals are also the most sensitive to heat.\\nKen Nedimyer uses a tile saw to divide a coral into pieces. Much like a plant, the cuttings will grow into a new coral, creating more material for restoring reefs off the Florida Keys.\\nLauren Sommer/NPR\\nhide caption\\ntoggle caption\\nLauren Sommer/NPR\\nMarine heat wave hits\\nIn 2023, the ocean around Florida started\\nheating up far earlier than normal\\n. Water temperatures reached well into the 90s, hotter than branching corals can withstand. Heat disrupts a key partnership that corals depend on. They rely on algae that live inside their tissue, which use sunlight to make food for the coral. But when corals get heat-stressed, those algae get ejected, which is why corals turn white.\\nBleaching doesn't necessarily kill coral, but after weeks of heat stress, corals can starve and become susceptible to other stressors. On some reefs that had been restored, NOAA found that\\n95% of the elkhorn coral had died\\n.\\n\\\"It looked like there was a snowstorm, just white coral everywhere,\\\" Nedimyer says. \\\"Two weeks later and you go out there and they're all gray and dead. And it was so hard to see. Twenty years of hard work gone in one week.\\\"\\nAs the temperature rose in 2023, a team from the University of Miami removed coral they had growing in the ocean in the hope of rescuing it. Many coral restoration groups raise coral in offshore nurseries before it's planted on reefs, but much of it was lost in the 2023 heat wave.\\nRebecca Blackwell/AP\\nhide caption\\ntoggle caption\\nRebecca Blackwell/AP\\nThe extreme temperatures were also a glimpse of the future. Marine heat waves are becoming more common, and coral reefs are among the most vulnerable ecosystems in the world to climate change. Studies show that if climate change stays on the current path, surpassing 3.6 degrees Fahrenheit (2 degrees Celsius) by 2100,\\n99% of the world's coral will be lost\\n.\\nIt was a moment of reckoning for Florida's coral restoration community.\\nClimate\\nCoral reefs can't keep up with climate change. So scientists are speeding up evolution\\n\\\"Just knowing what it's going to look like really helped us to focus on how we're going to prepare for it,\\\" Nedimyer says. \\\"What we were doing was not going to work.\\\"\\nNedimyer's team is now focusing more on the coral species that survived the 2023 heat wave better. The large, round corals, known as brain and boulder corals, are slower growing but fare better in higher temperatures. He's developing plans for an onshore coral nursery, so larger amounts of corals can be grown in tanks, before being put into the ocean. Still, in a hotter future, he knows Florida's reef may need even tougher corals.\\nA tiny \\\"Flonduran\\\" coral grows at The Florida Aquarium, crossbred from corals from Florida and Honduras. Researchers are now testing them on reefs off Miami to see how they handle warmer ocean temperatures.\\nThe Florida Aquarium\\nhide caption\\ntoggle caption\\nThe Florida Aquarium\\nCrossbreeding corals\\nAt the University of Miami, the tiny \\\"Flonduran\\\" elkhorn corals are about the size of a quarter, the result of years of planning and international logistics. Their Honduran parents came from a reef known to experience tough conditions for elkhorn coral \\u2014 high temperatures and murky water.\\nSponsor Message\\n\\\"The reef in Tela, Honduras, routinely experiences temperatures that are about 1 1/2 to 2 degrees warmer than Florida's warmest temperatures and those are about the same kind of conditions that we saw in Florida in the 2023 bleaching event,\\\" says Baker of the University of Miami.\\nThe hope is that the Honduran coral can pass on their ability to withstand heat in their genetics. It's blended with the genetics of Florida's coral, since they have their own strengths suited to the local environment. The technique is known as \\\"\\nassisted gene flow\\n,\\\" a way of speeding up the process of adaptation within a species.\\nCorals like this brain coral were collected in Honduras from a reef that routinely experiences warmer temperatures than Florida. Researchers hope the corals will pass on that ability to their young.\\nAlexandra Wen/University of Miami Rosenstiel School\\nhide caption\\ntoggle caption\\nAlexandra Wen/University of Miami Rosenstiel School\\nBaker worked with a nonprofit in Honduras, Tela Marine, and The Florida Aquarium\\nto bring the coral to the U.S.\\nThis summer, their young were planted on a reef off Miami to test how they grow on Florida's reefs.\\n\\\"So far so good, they're all doing great,\\\" Baker says. \\\"But we're under heat stress, so we are actually very interested to see what happens in this pretty severe bleaching event.\\\"\\nIt's the first time that state regulators have permitted an internationally bred coral in U.S. waters. Regulators with the Florida Fish and Wildlife Conservation Commission considered the risks of the introduction, given the damage worldwide that invasive species have caused through accidental introductions. Researchers have also crossbred Florida corals with ones from Cura\\u00e7ao, but regulators did not permit them to be planted in the ocean. While the parent corals are the same species, they determined the populations were too genetically different to be released in the wild.\\nThis summer, the \\\"Flonduran\\\" corals were planted on reefs off Miami. Researchers are eager to see how they fared during the hottest months when other corals were bleaching.\\nUniversity of Miami Rosenstiel School\\nhide caption\\ntoggle caption\\nUniversity of Miami Rosenstiel School\\n\\\"Rightly, we've been very protective of environments to try to prevent introductions when we can,\\\" Baker says. \\\"I think what's changed on Florida's coral reef is that the conditions are no longer suited for the coral we have here. So we really have to think about bringing in new diversity.\\\"\\nSponsor Message\\nStill, Baker says the work isn't about creating a \\\"super coral.\\\" Corals that are all-stars at dealing with heat may struggle to deal with other threats, like disease. Reefs need a mix of genetic diversity to withstand what nature throws their way.\\n\\\"What we want is lots of different super corals that were generated in different ways so that we don't have all our eggs in one basket,\\\" Baker says.\\nBaker's lab is also looking at breeding corals from the Cayman Islands. He's hopeful that countries around the Caribbean will benefit from their research, an incentive for sharing coral samples. But he says the\\nlengthy international permitting process\\nmakes moving coral samples challenging. Countries like the Bahamas\\nhave also passed laws\\nlimiting the export of their biological materials, after a\\nhistorical legacy\\nof richer countries extracting and patenting discoveries made in developing nations.\\nStill, Baker says he's hopeful that coral conservation work can be reciprocal for all the countries involved, given the dire situation that all reefs face.\\n\\\"It's not all just about Florida,\\\" Baker says. \\\"I think we have a role to play here in Miami where we have the resources to help other countries generate varieties of corals that will do well in their countries.\\\"\",\n          \"The Centers for Disease Control and Prevention has issued new recommendations for COVID vaccination that require a consultation with a health professional first.\\nFREDERIC J. BROWN/AFP via Getty Images\\nhide caption\\ntoggle caption\\nFREDERIC J. BROWN/AFP via Getty Images\\nThe Centers for Disease Control and Prevention Monday accepted controversial new guidelines for the updated COVID-19 vaccines that could make it harder for many people to protect themselves this winter compared with previous years.\\nActing CDC Director Jim O'Neill agreed to the recommendations for the COVID shots from Health Secretary Robert F. Kennedy Jr.'s handpicked Advisory Committee on Immunization Practices, which met in September.\\nPublic Health\\n5 new members added to CDC vaccine advisory panel ahead of key meeting\\nUnlike in earlier years, the new guidelines call for people to talk to a doctor, pharmacist or some other health care provider about the risks and benefits of getting vaccinated before they get a shot. This extra step is called \\\"shared decision-making,\\\"or \\\"individual-based decision-making\\\" according to the language in\\nthe press release\\n.\\nThe move is the final action necessary for implementing the new guidelines, which affect who can get and give the COVID shot, and whether vaccination will be covered by private and government insurance without copayments.\\nSponsor Message\\nFinal recommendations were delayed\\nThe step came after an\\nunusual, unexplained two-week lag\\nbetween when CDC advisers issued the recommendations and the agency accepted them. The official decision\\nallows the CDC\\nto finally start shipping vaccines to doctors, clinics and other providers through the Vaccines for Children Program, which provides vaccines free to about 40% of all U.S. children.\\n\\\"Informed consent is back,\\\" O'Neill said in a statement announcing the step. \\\"CDC's 2022 blanket recommendation for perpetual COVID-19 boosters deterred health care providers from talking about the risks and benefits of vaccination for the individual patient or parent. That changes today.\\\"\\nIndependent vaccine experts challenged that claim.\\n\\\"There is no basis to claim that routine recommendations prevent doctors from discussing risks and benefits with patients,\\\" said\\nDorit Reiss\\n, who studies vaccine policies at the University of California, San Francisco. \\\"Doctors [have always been] required to get informed consent. Shared clinical decision-making simply signals the vaccine is not routinely recommended and decreases uptake.\\\"\\nOthers agree O'Neill's claim is false and could undermine public confidence in the vaccines.\\n\\\"The claim that the past recommendations deterred health care professionals from talking to patients about risks is completely untrue and is another example of the misinformation and made up information that this administration continues to release to the public and further creates confusion and distrust in healthcare providers and vaccines,\\\" wrote Dr.\\nTina Tan\\n, the president of the Infectious Diseases Society of America, in an email. \\\"This is extremely unfortunate and critically increases the American public's risk for serious vaccine preventable diseases.\\\"\\nSponsor Message\\nThe CDC also formalized a recommendation that makes it more complicated for some parents to get their babies vaccinated against measles, mumps, rubella and chickenpox.\\n\\\"If that's his approach, I am concerned about [additional] childhood vaccines recommended for routine use,\\\" Reiss added in an email. \\\"If he thinks a routine recommendation undermines informed consent \\u2014 which it doesn't \\u2014 that could further reduce uptake and may make the Trump-Kennedy outbreaks of measles and pertussis we are seeing even larger.\\\"\\nThe moves guarantee continued insurance coverage for the COVID shots and allows pharmacists nationwide to keep administering the vaccines. But the changes withdraw some government coverage for the combination shot that protects against measles, mumps, rubella and chickenpox and that some parents prefer.\\nIn previous years, the COVID-19 vaccines have been easily available for free to anyone 6 months and older by simply walking into a pharmacy, doctor's office or clinic and asking for a shot.\\nBarriers to vaccination\\nBut the vaccines\\nbecame harder\\nto get in August, when the Food and Drug Administration approved updated versions of the Moderna, Pfizer/BioNTech and Novavax vaccines only for people at increased risk for serious disease because they are age 65 or older or had some other health issue.\\nThe change occurred because top Trump administration health officials say they have concerns about the safety and effectiveness of the vaccines, even though there is overwhelming evidence the vaccines are very safe and highly effective. Federal health officials also argue that most people have so much immunity now that they don't necessarily need annual boosters anymore.\\nMany public health experts agree that COVID no longer poses the serious risk it once did to many people, especially those who are younger and otherwise healthy. Other countries have also shifted to a more \\\"risk-based\\\" COVID vaccination strategy.\\nBut some healthy people still want to get vaccinated to reduce their risk of getting sick at all, missing work or school, developing long COVID or spreading the virus to vulnerable people, such as older family members and friends with other health issues.\\nSponsor Message\\nOver the past month, the change caused\\nanger, frustration and confusion\\n. In states like Georgia and Utah, people had to get a prescription to get a shot and some couldn't get vaccinated at all.\\nTreatments\\nThe CDC still hasn't issued COVID vaccine guidelines, leaving access in limbo\\nThe situation was further complicated because Kennedy, who has a long history of criticizing vaccines, said the government was no longer recommending the vaccines for pregnant women and healthy children, even though pregnancy is listed as a risk factor by the CDC and FDA, and COVID can still make some kids very sick.\\nEarlier this month, the vaccine panel, which gives influential advice to the CDC,\\nvoted to recommend the shots\\nfor anyone 6 months and older, provided they consult with a health care provider about the risks and benefits.\\nConfusion still reigns\\nThe requirement for\\nshared clinical decision-making\\ncreates a new hurdle to getting vaccinated compared with previous years, by explicitly requiring a conversation with a provider on an individual's risks and benefits before they get one.\\nThe new guidelines continue to ensure coverage by private and public insurers, including Medicaid, Medicare, the Vaccines for Children Program and the Children's Health Insurance Program.\\nThe recommendation should also clarify that anyone age 6 months and older is eligible for the COVID vaccine, including healthy children, pregnant women and younger adults. (The only way to protect younger babies, who are among those who face the greatest risk from COVID, is by immunizing their mothers during pregnancy.)\\nBut some providers may remain confused or hesitant to administer the shots because of lingering uncertainty and mixed messages, for instance, speculative safety risks presented during the CDC's advisory committee meeting that are not backed by solid evidence.\\nSome states and major medical groups like the American Academy of Pediatrics, the American College of Obstetricians and Gynecologists and the Infectious Diseases Society of America have issued separate guidelines recommending the shots to most everyone ages 6 months and up, to protect themselves and their communities this upcoming respiratory virus season.\\nSponsor Message\\nIn addition, more doctor's offices may opt against stocking the new vaccines because of concerns the debate may further dampen demand, requiring people to go elsewhere, such as a pharmacy.\\nSome pharmacies may require patients to read and fill out a form that discusses the potential risks and benefits of the vaccines. But CVS, the nation's largest pharmacy chain, says people will be able to get a COVID vaccines simply by asking for one. Pharmacists won't have to require anything, including even a conversation, unless patients have questions, CVS says.\\nA separate shot for chickenpox is now recommended\\nO'Neill also accepted the panel's vote to ban the MMRV combination shot, which protects against measles, mumps, rubella and varicella, or chickenpox, for children under 4.\\nYoung children can gain the same protection by getting separate shots for MMR and varicella, and most of them \\u2013 some 85% \\u2013 already do, according to\\nCDC data shared\\nand discussed at the advisory committee's September meeting.\\nThat's because the combination shot is associated with a slightly higher risk of fevers that can lead to seizures in kids under 4. Because of the risk the CDC has, for more than 15 years, preferred that children under 4 receive the shots separately. Still, some parents were choosing to get the combo shot, because it was easier or more available, and the risk associated with the potentially frightening but temporary side effect is low.\\nBecause of the recommendation, the MMRV vaccine will no longer be covered by federal programs that offer subsidized vaccines. \\\"This panel has made a recommendation for a practice that's essentially in place anyway, but removed the option of having those vaccines financed for those who may think this is a better option,\\\" says Dr. Katrina Kretsinger, a medical epidemiologist who worked on vaccine policy for more than a decade at CDC, before retiring from the agency in 2023, \\\"This is effectively removing a choice from parents.\\\"\\nSponsor Message\\nMaking different policies from the same safety information that was thoroughly examined years ago will also raise mistrust among parents, Kretsinger says. \\\"There is confusion about how to proceed, and also doubts raised by the fact that this is being re-examined,\\\" she says, \\\"It furthers the chilling effect on vaccine uptake.\\\"\\nThe change may also cause shortages of the separate vaccines, at least initially, until manufacturers can adjust their production to meet the new demand.\\nA fresh call to break up the MMR vaccine\\nA few hours after issuing the new vaccine guidelines, Acting CDC Director O'Neill also called on makers of the combined MMR vaccine to break it up into three separate shots for measles, mumps and rubella in\\na post on X.com\\n. The post praised President Trump for his leadership and reposted his call in September that the MMR vaccine be administered as \\\"THREE TOTALLY SEPARATE SHOTS.\\\"\\nThe combination shot for measles, mumps and rubella has been used in the U.S. for decades.\\n\\\"This really is absolutely completely ridiculous and really sets us back over 50 years in time given that the MMR vaccine was licensed here in the US in 1971,\\\" said Tan, president of the Infectious Diseases Society of America, in an email. \\\"It was made as a combination vaccine to ensure that persons would receive all the vaccines that they would need as a single shot as opposed to 3 separate injections. This is crazy and continues to erode the public health system and the public trust in vaccines.\\\"\\n\\\"There is no published scientific evidence that shows any benefit in separating the combination MMR vaccine into three individual shots,\\\" said a statement from Merck, which makes an\\nMMR vaccine\\n. \\\"Use of the individual components of combination vaccines increases the number of injections for the individual and may result in delayed or missed immunizations.\\\"\\nSponsor Message\\nThe statement also said that evidence suggests combination vaccines improve outcomes for kids by increasing completion of recommended vaccines and getting them at the right ages. Merck also said there are no single-shot vaccines approved for use in the U.S. for measles, mumps or rubella.\\n\\\"Combination vaccines play a crucial role in improving vaccination coverage rates; their safety and efficacy have been demonstrated by decades of research,\\\" said a statement from GSK, maker of the other MMR vaccine available in the U.S. \\\"By reducing the number of separate injections required, combination vaccines allow for a simpler and more efficient immunization process, which is essential for timely protection against disease.\\\"\",\n          \"With hundreds of clinics specialized in hair transplants, Istanbul is a growing hub in the industry, attracting people from all over the world.\\nOzan Kose/AFP via Getty Images\\nhide caption\\ntoggle caption\\nOzan Kose/AFP via Getty Images\\nISTANBUL \\u2014 In a bright clinic on the eastern side of Istanbul, a man leans over another man's scalp.\\nThere's a marker in his hand, and he's drawing thin, careful lines across the cranium. It looks almost like an art class. Except the canvas here is a human head.\\nDr. Mehmet Erdogan (no relation to\\nTurkey's president\\n) runs the\\nSmile Hair Clinic\\nin Istanbul, a sleek multistory complex that boasts a 90-95% hair transplant success rate. Since it opened in 2018, the clinic has been treating around 5,000 patients every year. Most come from abroad: around a third come from the United States alone.\\nSponsor Message\\n\\\"OK, I will draw according to what I recommend to you,\\\" Erdogan says, as the pen squeaks against the scalp of his patient, Justin R., a registered nurse from California. Justin, in his early 40s, didn't want NPR to use his last name so that he could discuss a private health care issue.\\nHair transplants aren't new \\u2014 but suddenly, they're everywhere. And Turkey has become the industry's unofficial capital.\\nThe country now draws patients from across the globe, lured by lower costs, bundled travel packages, and a growing network of clinics. The result has been a booming new industry, with significant economic gain. But although the procedure is generally\\nconsidered safe\\nwhen carried out by a skilled surgeon, the industry's success has prompted concerns about possible risks and oversight.\\nFor Justin, the decision came down to dollars.\\nHe told NPR his transplant, including airfare and lodging, cost him about $3,400. He was given quotes for more than double that at clinics he reached out to in California.\\nIn the U.S., the average price for comparable procedures\\nruns upwards\\nof $13,000, according to a 2023 study published by the American Society of Plastic Surgeons.\\nTurkey has built an entire industry on that kind of cost gap.\\nSponsor Message\\nAccording to the Turkish Health Tourism Association, around 1 million people traveled\\nto the country\\nin 2022 for hair transplants alone, spending about $2 billion.\\nNationwide, health tourism brought in even more: about 2 million medical tourists in 2024, generating close to $3 billion, according to\\ndata from the Turkish Health Ministry\\n.\\nWalk through Istanbul's airports and you'll see the ads \\u2014 smiling men with fresh hairlines, clinics promising all-inclusive packages with hotels, airport transfers, translators, even sightseeing.\\nThe hidden risks\\nNot every story ends with a perfect hairline.\\nThe International Society of Hair Restoration Surgery has\\nflagged concerns\\nabout so-called \\\"black market clinics,\\\" where unlicensed practitioners perform delicate procedures or rush through multiple patients a day. The medical association says it has received reports of outcomes ranging from botched hairlines to infections and scarring.\\nGlen Jankowski, a psychologist at University College Dublin and author of forthcoming book\\nBranding Baldness\\n, warns there are also medical risks that go beyond the physical results.\\n\\\"It's really important that, especially the hair follicles, you aren't doing too much harvesting in one session,\\\" he explains. \\\"It does have an effect on your blood pressure. It really is important that medically trained people are doing it \\u2014 and sometimes that's not the case.\\\"\\nJankowski also says that patients are sometimes pushed onto medications like minoxidil or finasteride without full consent. \\\"Those drugs can have significant side effects,\\\" he says. \\\"You should only take them with proper medical advice and informed consent.\\\"\\nThe Turkish Health Ministry has pledged stricter oversight and more inspections. Still, critics say the sheer number of clinics \\u2014 some estimates put it at 5,000 in Istanbul alone \\u2014 makes enforcement difficult.\\nThe social media effect\\nSo why do so many men sign up? It's not just the savings. Or the vanity.\\nIt's psychology \\u2014 and TikTok.\\n\\\"Most people worry about hair loss regardless of their actual hair count, because the advertising is so strong around it,\\\" says Jankowski.\\nSponsor Message\\nAt the Smile Hair Clinic, the waiting room tells this very story. A giant screen loops TikTok and Instagram reels from happy clients, swiping their hands over fresh hairlines. \\\"Five months ago I flew to Istanbul,\\\" one man boasts. \\\"Best decision ever.\\\"\\nSocial media has turned the transplant into a lifestyle upgrade. It's a makeover to flaunt, not hide. And the more men show off their results, the more normal the surgery feels.\\nA few months after his operation, NPR checked in with Justin R. He says he feels younger, more confident \\u2014 and grateful he didn't have to spend twice as much back home.\\nDoctors like Erdogan say most patients feel the same. But he also admits the rush of clinics and customers has created a \\\"Wild West\\\" atmosphere, where it's up to patients to do their homework.\\nOf course, not everyone signs up.\\nJankowski, the psychologist, has chosen another route.\\n\\\"The hair we carry on top of our heads, we think it's really meaningful. It's not,\\\" he says. \\\"[My hair] doesn't clog my shower anymore. It doesn't fall into my porridge. There's a beauty and wisdom to [hair loss] we're unfortunately losing.\\\"\\nFor some, that's the safer and cheapest choice of all \\u2014 shave it off and move on.\"\n        ],\n        \"semantic_type\": \"\",\n        \"description\": \"\"\n      }\n    }\n  ]\n}",
              "type": "dataframe",
              "variable_name": "df"
            },
            "text/html": [
              "\n",
              "  <div id=\"df-8e9a9b73-c7b7-4991-aea3-f96d2dc7a2d7\" class=\"colab-df-container\">\n",
              "    <div>\n",
              "<style scoped>\n",
              "    .dataframe tbody tr th:only-of-type {\n",
              "        vertical-align: middle;\n",
              "    }\n",
              "\n",
              "    .dataframe tbody tr th {\n",
              "        vertical-align: top;\n",
              "    }\n",
              "\n",
              "    .dataframe thead th {\n",
              "        text-align: right;\n",
              "    }\n",
              "</style>\n",
              "<table border=\"1\" class=\"dataframe\">\n",
              "  <thead>\n",
              "    <tr style=\"text-align: right;\">\n",
              "      <th></th>\n",
              "      <th>news_category</th>\n",
              "      <th>article</th>\n",
              "    </tr>\n",
              "  </thead>\n",
              "  <tbody>\n",
              "    <tr>\n",
              "      <th>0</th>\n",
              "      <td>politics</td>\n",
              "      <td>A pair of Senate Democrats is responding to\\na...</td>\n",
              "    </tr>\n",
              "    <tr>\n",
              "      <th>1</th>\n",
              "      <td>politics</td>\n",
              "      <td>Gold is having its hottest year in nearly half...</td>\n",
              "    </tr>\n",
              "    <tr>\n",
              "      <th>2</th>\n",
              "      <td>politics</td>\n",
              "      <td>there is an error in 'get_text_from_article'</td>\n",
              "    </tr>\n",
              "    <tr>\n",
              "      <th>3</th>\n",
              "      <td>politics</td>\n",
              "      <td>James Comey, former FBI director, speaks at a ...</td>\n",
              "    </tr>\n",
              "    <tr>\n",
              "      <th>4</th>\n",
              "      <td>politics</td>\n",
              "      <td>From left, Senate Judiciary Committee Chairman...</td>\n",
              "    </tr>\n",
              "  </tbody>\n",
              "</table>\n",
              "</div>\n",
              "    <div class=\"colab-df-buttons\">\n",
              "\n",
              "  <div class=\"colab-df-container\">\n",
              "    <button class=\"colab-df-convert\" onclick=\"convertToInteractive('df-8e9a9b73-c7b7-4991-aea3-f96d2dc7a2d7')\"\n",
              "            title=\"Convert this dataframe to an interactive table.\"\n",
              "            style=\"display:none;\">\n",
              "\n",
              "  <svg xmlns=\"http://www.w3.org/2000/svg\" height=\"24px\" viewBox=\"0 -960 960 960\">\n",
              "    <path d=\"M120-120v-720h720v720H120Zm60-500h600v-160H180v160Zm220 220h160v-160H400v160Zm0 220h160v-160H400v160ZM180-400h160v-160H180v160Zm440 0h160v-160H620v160ZM180-180h160v-160H180v160Zm440 0h160v-160H620v160Z\"/>\n",
              "  </svg>\n",
              "    </button>\n",
              "\n",
              "  <style>\n",
              "    .colab-df-container {\n",
              "      display:flex;\n",
              "      gap: 12px;\n",
              "    }\n",
              "\n",
              "    .colab-df-convert {\n",
              "      background-color: #E8F0FE;\n",
              "      border: none;\n",
              "      border-radius: 50%;\n",
              "      cursor: pointer;\n",
              "      display: none;\n",
              "      fill: #1967D2;\n",
              "      height: 32px;\n",
              "      padding: 0 0 0 0;\n",
              "      width: 32px;\n",
              "    }\n",
              "\n",
              "    .colab-df-convert:hover {\n",
              "      background-color: #E2EBFA;\n",
              "      box-shadow: 0px 1px 2px rgba(60, 64, 67, 0.3), 0px 1px 3px 1px rgba(60, 64, 67, 0.15);\n",
              "      fill: #174EA6;\n",
              "    }\n",
              "\n",
              "    .colab-df-buttons div {\n",
              "      margin-bottom: 4px;\n",
              "    }\n",
              "\n",
              "    [theme=dark] .colab-df-convert {\n",
              "      background-color: #3B4455;\n",
              "      fill: #D2E3FC;\n",
              "    }\n",
              "\n",
              "    [theme=dark] .colab-df-convert:hover {\n",
              "      background-color: #434B5C;\n",
              "      box-shadow: 0px 1px 3px 1px rgba(0, 0, 0, 0.15);\n",
              "      filter: drop-shadow(0px 1px 2px rgba(0, 0, 0, 0.3));\n",
              "      fill: #FFFFFF;\n",
              "    }\n",
              "  </style>\n",
              "\n",
              "    <script>\n",
              "      const buttonEl =\n",
              "        document.querySelector('#df-8e9a9b73-c7b7-4991-aea3-f96d2dc7a2d7 button.colab-df-convert');\n",
              "      buttonEl.style.display =\n",
              "        google.colab.kernel.accessAllowed ? 'block' : 'none';\n",
              "\n",
              "      async function convertToInteractive(key) {\n",
              "        const element = document.querySelector('#df-8e9a9b73-c7b7-4991-aea3-f96d2dc7a2d7');\n",
              "        const dataTable =\n",
              "          await google.colab.kernel.invokeFunction('convertToInteractive',\n",
              "                                                    [key], {});\n",
              "        if (!dataTable) return;\n",
              "\n",
              "        const docLinkHtml = 'Like what you see? Visit the ' +\n",
              "          '<a target=\"_blank\" href=https://colab.research.google.com/notebooks/data_table.ipynb>data table notebook</a>'\n",
              "          + ' to learn more about interactive tables.';\n",
              "        element.innerHTML = '';\n",
              "        dataTable['output_type'] = 'display_data';\n",
              "        await google.colab.output.renderOutput(dataTable, element);\n",
              "        const docLink = document.createElement('div');\n",
              "        docLink.innerHTML = docLinkHtml;\n",
              "        element.appendChild(docLink);\n",
              "      }\n",
              "    </script>\n",
              "  </div>\n",
              "\n",
              "\n",
              "    <div id=\"df-84038359-1a37-4764-bef6-18910eb78c52\">\n",
              "      <button class=\"colab-df-quickchart\" onclick=\"quickchart('df-84038359-1a37-4764-bef6-18910eb78c52')\"\n",
              "                title=\"Suggest charts\"\n",
              "                style=\"display:none;\">\n",
              "\n",
              "<svg xmlns=\"http://www.w3.org/2000/svg\" height=\"24px\"viewBox=\"0 0 24 24\"\n",
              "     width=\"24px\">\n",
              "    <g>\n",
              "        <path d=\"M19 3H5c-1.1 0-2 .9-2 2v14c0 1.1.9 2 2 2h14c1.1 0 2-.9 2-2V5c0-1.1-.9-2-2-2zM9 17H7v-7h2v7zm4 0h-2V7h2v10zm4 0h-2v-4h2v4z\"/>\n",
              "    </g>\n",
              "</svg>\n",
              "      </button>\n",
              "\n",
              "<style>\n",
              "  .colab-df-quickchart {\n",
              "      --bg-color: #E8F0FE;\n",
              "      --fill-color: #1967D2;\n",
              "      --hover-bg-color: #E2EBFA;\n",
              "      --hover-fill-color: #174EA6;\n",
              "      --disabled-fill-color: #AAA;\n",
              "      --disabled-bg-color: #DDD;\n",
              "  }\n",
              "\n",
              "  [theme=dark] .colab-df-quickchart {\n",
              "      --bg-color: #3B4455;\n",
              "      --fill-color: #D2E3FC;\n",
              "      --hover-bg-color: #434B5C;\n",
              "      --hover-fill-color: #FFFFFF;\n",
              "      --disabled-bg-color: #3B4455;\n",
              "      --disabled-fill-color: #666;\n",
              "  }\n",
              "\n",
              "  .colab-df-quickchart {\n",
              "    background-color: var(--bg-color);\n",
              "    border: none;\n",
              "    border-radius: 50%;\n",
              "    cursor: pointer;\n",
              "    display: none;\n",
              "    fill: var(--fill-color);\n",
              "    height: 32px;\n",
              "    padding: 0;\n",
              "    width: 32px;\n",
              "  }\n",
              "\n",
              "  .colab-df-quickchart:hover {\n",
              "    background-color: var(--hover-bg-color);\n",
              "    box-shadow: 0 1px 2px rgba(60, 64, 67, 0.3), 0 1px 3px 1px rgba(60, 64, 67, 0.15);\n",
              "    fill: var(--button-hover-fill-color);\n",
              "  }\n",
              "\n",
              "  .colab-df-quickchart-complete:disabled,\n",
              "  .colab-df-quickchart-complete:disabled:hover {\n",
              "    background-color: var(--disabled-bg-color);\n",
              "    fill: var(--disabled-fill-color);\n",
              "    box-shadow: none;\n",
              "  }\n",
              "\n",
              "  .colab-df-spinner {\n",
              "    border: 2px solid var(--fill-color);\n",
              "    border-color: transparent;\n",
              "    border-bottom-color: var(--fill-color);\n",
              "    animation:\n",
              "      spin 1s steps(1) infinite;\n",
              "  }\n",
              "\n",
              "  @keyframes spin {\n",
              "    0% {\n",
              "      border-color: transparent;\n",
              "      border-bottom-color: var(--fill-color);\n",
              "      border-left-color: var(--fill-color);\n",
              "    }\n",
              "    20% {\n",
              "      border-color: transparent;\n",
              "      border-left-color: var(--fill-color);\n",
              "      border-top-color: var(--fill-color);\n",
              "    }\n",
              "    30% {\n",
              "      border-color: transparent;\n",
              "      border-left-color: var(--fill-color);\n",
              "      border-top-color: var(--fill-color);\n",
              "      border-right-color: var(--fill-color);\n",
              "    }\n",
              "    40% {\n",
              "      border-color: transparent;\n",
              "      border-right-color: var(--fill-color);\n",
              "      border-top-color: var(--fill-color);\n",
              "    }\n",
              "    60% {\n",
              "      border-color: transparent;\n",
              "      border-right-color: var(--fill-color);\n",
              "    }\n",
              "    80% {\n",
              "      border-color: transparent;\n",
              "      border-right-color: var(--fill-color);\n",
              "      border-bottom-color: var(--fill-color);\n",
              "    }\n",
              "    90% {\n",
              "      border-color: transparent;\n",
              "      border-bottom-color: var(--fill-color);\n",
              "    }\n",
              "  }\n",
              "</style>\n",
              "\n",
              "      <script>\n",
              "        async function quickchart(key) {\n",
              "          const quickchartButtonEl =\n",
              "            document.querySelector('#' + key + ' button');\n",
              "          quickchartButtonEl.disabled = true;  // To prevent multiple clicks.\n",
              "          quickchartButtonEl.classList.add('colab-df-spinner');\n",
              "          try {\n",
              "            const charts = await google.colab.kernel.invokeFunction(\n",
              "                'suggestCharts', [key], {});\n",
              "          } catch (error) {\n",
              "            console.error('Error during call to suggestCharts:', error);\n",
              "          }\n",
              "          quickchartButtonEl.classList.remove('colab-df-spinner');\n",
              "          quickchartButtonEl.classList.add('colab-df-quickchart-complete');\n",
              "        }\n",
              "        (() => {\n",
              "          let quickchartButtonEl =\n",
              "            document.querySelector('#df-84038359-1a37-4764-bef6-18910eb78c52 button');\n",
              "          quickchartButtonEl.style.display =\n",
              "            google.colab.kernel.accessAllowed ? 'block' : 'none';\n",
              "        })();\n",
              "      </script>\n",
              "    </div>\n",
              "\n",
              "    </div>\n",
              "  </div>\n"
            ],
            "text/plain": [
              "  news_category                                            article\n",
              "0      politics  A pair of Senate Democrats is responding to\\na...\n",
              "1      politics  Gold is having its hottest year in nearly half...\n",
              "2      politics       there is an error in 'get_text_from_article'\n",
              "3      politics  James Comey, former FBI director, speaks at a ...\n",
              "4      politics  From left, Senate Judiciary Committee Chairman..."
            ]
          },
          "execution_count": 2,
          "metadata": {},
          "output_type": "execute_result"
        }
      ],
      "source": [
        "df = pd.read_csv(\"articles.csv\")\n",
        "df.head()"
      ]
    },
    {
      "cell_type": "code",
      "execution_count": 3,
      "metadata": {
        "id": "lPWaLZ_AR-a6"
      },
      "outputs": [],
      "source": [
        "def clean(text):\n",
        "  text = BeautifulSoup(text, 'html.parser').text\n",
        "  text = re.sub(r'\\s+', ' ', text).strip()\n",
        "  text = re.sub(r'\\\\+', '', text)\n",
        "  return text\n",
        "\n",
        "df['article'] = df['article'].apply(clean)"
      ]
    },
    {
      "cell_type": "code",
      "execution_count": 4,
      "metadata": {
        "id": "dE-NpI4PWNEE"
      },
      "outputs": [],
      "source": [
        " le = LabelEncoder()\n",
        " le.fit(df['news_category'])\n",
        " df['label'] = le.transform(df['news_category'])"
      ]
    },
    {
      "cell_type": "code",
      "execution_count": 5,
      "metadata": {
        "id": "L7V2ndHvZ8xR"
      },
      "outputs": [],
      "source": [
        "data = df[['article', 'label']]\n",
        "train_data, test_data = train_test_split(data, test_size=0.2, random_state=42)"
      ]
    },
    {
      "cell_type": "code",
      "execution_count": 6,
      "metadata": {
        "id": "WSAhbjwbbc7x"
      },
      "outputs": [],
      "source": [
        "train_dataset = Dataset.from_pandas(train_data)\n",
        "test_dataset = Dataset.from_pandas(test_data)"
      ]
    },
    {
      "cell_type": "markdown",
      "metadata": {
        "id": "1fqpleFmb3e9"
      },
      "source": [
        "##Tokinizer and Model"
      ]
    },
    {
      "cell_type": "code",
      "execution_count": null,
      "metadata": {
        "id": "zISRcE0ucMDE"
      },
      "outputs": [],
      "source": [
        "model_name = 'Qwen/Qwen2.5-0.5B'\n",
        "hf_token = '--'\n",
        "huggingface_hub.login(hf_token)"
      ]
    },
    {
      "cell_type": "code",
      "execution_count": 8,
      "metadata": {
        "colab": {
          "base_uri": "https://localhost:8080/"
        },
        "id": "OAbRr1uXcAQo",
        "outputId": "dc2c8cbf-6386-432a-fea9-5adad8b0a9b3"
      },
      "outputs": [
        {
          "name": "stderr",
          "output_type": "stream",
          "text": [
            "/usr/local/lib/python3.12/dist-packages/huggingface_hub/utils/_auth.py:94: UserWarning: \n",
            "The secret `HF_TOKEN` does not exist in your Colab secrets.\n",
            "To authenticate with the Hugging Face Hub, create a token in your settings tab (https://huggingface.co/settings/tokens), set it as secret in your Google Colab and restart your session.\n",
            "You will be able to reuse this secret in all of your notebooks.\n",
            "Please note that authentication is recommended but still optional to access public models or datasets.\n",
            "  warnings.warn(\n"
          ]
        }
      ],
      "source": [
        "tokenizer = AutoTokenizer.from_pretrained(model_name)\n",
        "tokenizer.pad_token_id = tokenizer.eos_token_id\n",
        "tokenizer.pad_token = tokenizer.eos_token"
      ]
    },
    {
      "cell_type": "code",
      "execution_count": 9,
      "metadata": {
        "colab": {
          "base_uri": "https://localhost:8080/",
          "height": 81,
          "referenced_widgets": [
            "832f90daaa844f6e91c55fa096712640",
            "8261ed2e60c34b6aba6e29d6d825cd56",
            "72b29dedf78a4f4985f03536ec60c4fd",
            "02a902967b524545807d9a09233bea1a",
            "fbfd027e46084e87a9cffcfae7fb6770",
            "e29d719b3f8c416898b175e955a3913c",
            "9e404f6478b34ff2baa9b5455e7761cb",
            "1a329b256235426fa3541a22aa4488ff",
            "3f95817d5c7044efab7e37ab3197eff8",
            "8b06509b1f5942b9b2bc69093c38eaf2",
            "87a2bb07754546c3b8ab275b20413829",
            "1694c47f36c14ad49212b85f4cfb982c",
            "7b2a01834a1c4000a35f3eda9d6ee8b5",
            "e878923ec5f547f090ee23f01e559ab6",
            "9d7b72c4b26c477c9e5775910d264cc5",
            "9b3bbc1608644b1498411d40af45f176",
            "490037d9c73247d89e50680fdf9a82ff",
            "cb7d364b3cc14cabb12bbae70f4c4dbf",
            "5e1e3e0a62d44b5f972ee09fa11b830d",
            "6bebf7c0ff0a4f6e9907fe89e37f1afa",
            "318b571704c842eabbd27d8087ce4437",
            "17dfdd9185ab469685939aeede1a3dd1"
          ]
        },
        "id": "-f0rIQx2f5mM",
        "outputId": "c987e270-2a85-42a8-c5b7-70fe866ec135"
      },
      "outputs": [
        {
          "data": {
            "application/vnd.jupyter.widget-view+json": {
              "model_id": "832f90daaa844f6e91c55fa096712640",
              "version_major": 2,
              "version_minor": 0
            },
            "text/plain": [
              "Map:   0%|          | 0/400 [00:00<?, ? examples/s]"
            ]
          },
          "metadata": {},
          "output_type": "display_data"
        },
        {
          "data": {
            "application/vnd.jupyter.widget-view+json": {
              "model_id": "1694c47f36c14ad49212b85f4cfb982c",
              "version_major": 2,
              "version_minor": 0
            },
            "text/plain": [
              "Map:   0%|          | 0/100 [00:00<?, ? examples/s]"
            ]
          },
          "metadata": {},
          "output_type": "display_data"
        }
      ],
      "source": [
        "def preprocess_func(examples):\n",
        "  return tokenizer(examples['article'], truncation=True)\n",
        "\n",
        "tokenized_train = train_dataset.map(preprocess_func, batched=True)\n",
        "tokenized_test = test_dataset.map(preprocess_func, batched=True)"
      ]
    },
    {
      "cell_type": "code",
      "execution_count": 15,
      "metadata": {
        "id": "A2uPYh3JjvS9"
      },
      "outputs": [],
      "source": [
        "data_collator = DataCollatorWithPadding(tokenizer=tokenizer)"
      ]
    },
    {
      "cell_type": "code",
      "execution_count": 10,
      "metadata": {
        "colab": {
          "base_uri": "https://localhost:8080/"
        },
        "id": "QlMeEk_fj-Dc",
        "outputId": "ba87b1be-05be-4b8d-d8b8-382b27d03ea1"
      },
      "outputs": [
        {
          "name": "stderr",
          "output_type": "stream",
          "text": [
            "Some weights of Qwen2ForSequenceClassification were not initialized from the model checkpoint at Qwen/Qwen2.5-0.5B and are newly initialized: ['score.weight']\n",
            "You should probably TRAIN this model on a down-stream task to be able to use it for predictions and inference.\n"
          ]
        }
      ],
      "source": [
        "import torch\n",
        "model = AutoModelForSequenceClassification.from_pretrained(model_name, num_labels=len(le.classes_), dtype=torch.bfloat16)\n",
        "model.config.pad_token_id = model.config.eos_token_id\n",
        "# model.gradient_checkpointing_enable()"
      ]
    },
    {
      "cell_type": "code",
      "execution_count": 11,
      "metadata": {
        "colab": {
          "base_uri": "https://localhost:8080/"
        },
        "id": "s7rGBFYMkvAY",
        "outputId": "692b8226-ea3e-4e34-9c88-bd8468ea07cf"
      },
      "outputs": [
        {
          "data": {
            "text/plain": [
              "290"
            ]
          },
          "execution_count": 11,
          "metadata": {},
          "output_type": "execute_result"
        }
      ],
      "source": [
        "total_layers = 0\n",
        "for params in model.base_model.parameters():\n",
        "  total_layers +=1\n",
        "\n",
        "total_layers"
      ]
    },
    {
      "cell_type": "code",
      "execution_count": 12,
      "metadata": {
        "colab": {
          "base_uri": "https://localhost:8080/"
        },
        "id": "kujZHPvGl0Hm",
        "outputId": "0c8850ad-5fa7-499b-d68e-eeac7269eebd"
      },
      "outputs": [
        {
          "name": "stdout",
          "output_type": "stream",
          "text": [
            "241\n"
          ]
        }
      ],
      "source": [
        "frozen_layer = 0\n",
        "for params in model.base_model.parameters():\n",
        "   if frozen_layer > total_layers - 50:\n",
        "     break\n",
        "   params.requires_grad = False\n",
        "   frozen_layer +=1\n",
        "print(frozen_layer)"
      ]
    },
    {
      "cell_type": "code",
      "execution_count": 13,
      "metadata": {
        "id": "h2Sk1IQNmo6H"
      },
      "outputs": [],
      "source": [
        "metric = evaluate.load('accuracy')\n",
        "def compute_metrics(eval_pred):\n",
        "  logits, labels = eval_pred\n",
        "  predictions = np.argmax(logits, axis=-1)\n",
        "  return metric.compute(predictions=predictions, references=labels)"
      ]
    },
    {
      "cell_type": "code",
      "execution_count": 18,
      "metadata": {
        "colab": {
          "base_uri": "https://localhost:8080/",
          "height": 202
        },
        "id": "cBtvFy-loIRr",
        "outputId": "e907f0e7-c592-4834-ec0e-b2e6a8804a24"
      },
      "outputs": [
        {
          "name": "stderr",
          "output_type": "stream",
          "text": [
            "/tmp/ipython-input-3555977445.py:16: FutureWarning: `tokenizer` is deprecated and will be removed in version 5.0.0 for `Trainer.__init__`. Use `processing_class` instead.\n",
            "  trainer = Trainer(\n"
          ]
        },
        {
          "data": {
            "text/html": [
              "\n",
              "    <div>\n",
              "      \n",
              "      <progress value='125' max='125' style='width:300px; height:20px; vertical-align: middle;'></progress>\n",
              "      [125/125 31:50, Epoch 5/5]\n",
              "    </div>\n",
              "    <table border=\"1\" class=\"dataframe\">\n",
              "  <thead>\n",
              " <tr style=\"text-align: left;\">\n",
              "      <th>Step</th>\n",
              "      <th>Training Loss</th>\n",
              "    </tr>\n",
              "  </thead>\n",
              "  <tbody>\n",
              "  </tbody>\n",
              "</table><p>"
            ],
            "text/plain": [
              "<IPython.core.display.HTML object>"
            ]
          },
          "metadata": {},
          "output_type": "display_data"
        },
        {
          "data": {
            "text/plain": [
              "TrainOutput(global_step=125, training_loss=3.56856005859375, metrics={'train_runtime': 1922.2279, 'train_samples_per_second': 1.04, 'train_steps_per_second': 0.065, 'total_flos': 6977060499225600.0, 'train_loss': 3.56856005859375, 'epoch': 5.0})"
            ]
          },
          "execution_count": 18,
          "metadata": {},
          "output_type": "execute_result"
        }
      ],
      "source": [
        "training_args = TrainingArguments(\n",
        "    output_dir='./results',\n",
        "    learning_rate=2e-5,\n",
        "    per_device_train_batch_size=2,\n",
        "    per_device_eval_batch_size=2,\n",
        "    num_train_epochs=5,\n",
        "    weight_decay=0.01,\n",
        "    bf16=True,\n",
        "    report_to='none',\n",
        "    save_steps=1000,\n",
        "    gradient_accumulation_steps=8\n",
        ")\n",
        "    #  , gradient_checkpointing=True\n",
        "\n",
        "\n",
        "trainer = Trainer(\n",
        "    model=model,\n",
        "    args=training_args,\n",
        "    train_dataset=tokenized_train,\n",
        "    eval_dataset=tokenized_test,\n",
        "    tokenizer=tokenizer,\n",
        "    data_collator=data_collator,\n",
        "    compute_metrics=compute_metrics\n",
        ")\n",
        "trainer.train()"
      ]
    },
    {
      "cell_type": "markdown",
      "metadata": {
        "id": "xStIzisaqVVe"
      },
      "source": [
        "##Evaluation"
      ]
    },
    {
      "cell_type": "code",
      "execution_count": 19,
      "metadata": {
        "colab": {
          "base_uri": "https://localhost:8080/",
          "height": 143
        },
        "id": "bo7FDiKiqNok",
        "outputId": "d71aace6-3063-466f-d91f-396ba8227847"
      },
      "outputs": [
        {
          "data": {
            "text/html": [],
            "text/plain": [
              "<IPython.core.display.HTML object>"
            ]
          },
          "metadata": {},
          "output_type": "display_data"
        },
        {
          "data": {
            "application/vnd.google.colaboratory.intrinsic+json": {
              "type": "string"
            },
            "text/plain": [
              "'              precision    recall  f1-score   support\\n\\n           0       0.81      1.00      0.90        86\\n           1       0.92      1.00      0.96        76\\n           2       0.92      0.81      0.86        90\\n           3       1.00      0.64      0.78        72\\n           4       0.80      0.91      0.85        76\\n\\n    accuracy                           0.88       400\\n   macro avg       0.89      0.87      0.87       400\\nweighted avg       0.89      0.88      0.87       400\\n'"
            ]
          },
          "execution_count": 19,
          "metadata": {},
          "output_type": "execute_result"
        }
      ],
      "source": [
        "pred = trainer.predict(tokenized_train)\n",
        "pred = np.argmax(pred[:3][0], axis=-1)\n",
        "gt = train_data['label'].to_list()\n",
        "eval_train = classification_report(gt, pred)\n",
        "eval_train"
      ]
    },
    {
      "cell_type": "code",
      "execution_count": null,
      "metadata": {
        "id": "2feapO4sPKeA"
      },
      "outputs": [],
      "source": [
        "       precision    recall  f1-score   support\n",
        "\n",
        "           0       0.81      1.00      0.90        86\n",
        "           1       0.92      1.00      0.96        76\n",
        "           2       0.92      0.81      0.86        90\n",
        "           3       1.00      0.64      0.78        72\n",
        "           4       0.80      0.91      0.85        76\n",
        "\n",
        "    accuracy                           0.88       400\n",
        "   macro avg       0.89      0.87      0.87       400\n",
        "weighted avg       0.89      0.88      0.87       400"
      ]
    },
    {
      "cell_type": "code",
      "execution_count": 20,
      "metadata": {
        "colab": {
          "base_uri": "https://localhost:8080/",
          "height": 143
        },
        "id": "2ic_A0YGrbTM",
        "outputId": "12d59677-9357-4efb-9c29-6cb70c04aa93"
      },
      "outputs": [
        {
          "data": {
            "text/html": [],
            "text/plain": [
              "<IPython.core.display.HTML object>"
            ]
          },
          "metadata": {},
          "output_type": "display_data"
        },
        {
          "data": {
            "application/vnd.google.colaboratory.intrinsic+json": {
              "type": "string"
            },
            "text/plain": [
              "'              precision    recall  f1-score   support\\n\\n           0       0.67      1.00      0.80        14\\n           1       0.89      1.00      0.94        24\\n           2       0.70      0.70      0.70        10\\n           3       1.00      0.64      0.78        28\\n           4       0.88      0.88      0.88        24\\n\\n    accuracy                           0.84       100\\n   macro avg       0.83      0.84      0.82       100\\nweighted avg       0.87      0.84      0.84       100\\n'"
            ]
          },
          "execution_count": 20,
          "metadata": {},
          "output_type": "execute_result"
        }
      ],
      "source": [
        "pred = trainer.predict(tokenized_test)\n",
        "pred = np.argmax(pred[:3][0], axis=-1)\n",
        "gt = test_data['label'].to_list()\n",
        "eval_test = classification_report(gt, pred)\n",
        "eval_test"
      ]
    },
    {
      "cell_type": "code",
      "execution_count": null,
      "metadata": {
        "id": "NpzCAfn2PWnl"
      },
      "outputs": [],
      "source": [
        "              precision    recall  f1-score   support\n",
        "\n",
        "           0       0.67      1.00      0.80        14\n",
        "           1       0.89      1.00      0.94        24\n",
        "           2       0.70      0.70      0.70        10\n",
        "           3       1.00      0.64      0.78        28\n",
        "           4       0.88      0.88      0.88        24\n",
        "\n",
        "    accuracy                           0.84       100\n",
        "   macro avg       0.83      0.84      0.82       100\n",
        "weighted avg       0.87      0.84      0.84       100\n"
      ]
    },
    {
      "cell_type": "markdown",
      "metadata": {
        "id": "CGrQBmUw1UDi"
      },
      "source": [
        "##Saving Locally and Push to hugging Face Hub"
      ]
    },
    {
      "cell_type": "code",
      "execution_count": 22,
      "metadata": {
        "colab": {
          "base_uri": "https://localhost:8080/"
        },
        "id": "_aKPE0-ctICv",
        "outputId": "74d9e8f1-3e2b-4018-e2ef-12dc7df3194a"
      },
      "outputs": [
        {
          "data": {
            "text/plain": [
              "('./news_classifier_model/tokenizer_config.json',\n",
              " './news_classifier_model/special_tokens_map.json',\n",
              " './news_classifier_model/chat_template.jinja',\n",
              " './news_classifier_model/vocab.json',\n",
              " './news_classifier_model/merges.txt',\n",
              " './news_classifier_model/added_tokens.json',\n",
              " './news_classifier_model/tokenizer.json')"
            ]
          },
          "execution_count": 22,
          "metadata": {},
          "output_type": "execute_result"
        }
      ],
      "source": [
        "model.config.id2label = {i: label for i, label in enumerate(le.classes_)}\n",
        "model.config.label2id = {label: i for i, label in enumerate(le.classes_)}\n",
        "trainer.save_model(\"./news_classifier_model\")\n",
        "tokenizer.save_pretrained(\"./news_classifier_model\")"
      ]
    },
    {
      "cell_type": "code",
      "execution_count": null,
      "metadata": {
        "id": "t2UNy6do1eLP"
      },
      "outputs": [],
      "source": [
        "model.push_to_hub(\"news_classifier_model\")\n",
        "tokenizer.push_to_hub(\"news_classifier_model\")\n",
        "trainer.push_to_hub(\"news_classifier_model\")"
      ]
    },
    {
      "cell_type": "markdown",
      "metadata": {
        "id": "-SRhEbvj1lRG"
      },
      "source": [
        "##Inference"
      ]
    },
    {
      "cell_type": "code",
      "execution_count": 23,
      "metadata": {
        "colab": {
          "base_uri": "https://localhost:8080/"
        },
        "id": "Ya_tg_jw1nsR",
        "outputId": "0b19c452-afbc-4991-c440-7bffb114c51a"
      },
      "outputs": [
        {
          "name": "stderr",
          "output_type": "stream",
          "text": [
            "Device set to use cuda:0\n"
          ]
        }
      ],
      "source": [
        "from transformers import pipeline\n",
        "classifier = pipeline(\n",
        "    \"text-classification\",\n",
        "    model=\"./news_classifier_model\",\n",
        "    tokenizer=\"./news_classifier_model\"\n",
        ")"
      ]
    },
    {
      "cell_type": "code",
      "execution_count": 24,
      "metadata": {
        "colab": {
          "base_uri": "https://localhost:8080/"
        },
        "id": "Q4r76C8b11iK",
        "outputId": "e7c2fc21-5b92-45e0-fdca-2b91bd65f2a5"
      },
      "outputs": [
        {
          "data": {
            "text/plain": [
              "[{'label': 'politics', 'score': 0.9864209890365601}]"
            ]
          },
          "execution_count": 24,
          "metadata": {},
          "output_type": "execute_result"
        }
      ],
      "source": [
        "report = \"\"\"Most of the federal government is shut down after Senate Republicans and Democrats failed to reach a funding agreement to keep it open.\n",
        "Democrats wanted to extend Affordable Care Act (ACA) subsidies used to make health insurance premiums more affordable for millions, but Republicans said they wanted to discuss extending the credits after reaching an agreement to fund the government. Democrats also wanted to repeal cuts made to healthcare programs by President Trump's signature legislation — the One Big Beautiful Bill Act.\n",
        "Trump has blamed Democrats for the shutdown and said last week he would look for a way to do a \"reduction in force\" of federal workers in the event the government closed.\"\"\"\n",
        "\n",
        "response = classifier(report)\n",
        "response"
      ]
    },
    {
      "cell_type": "code",
      "execution_count": 31,
      "metadata": {
        "colab": {
          "base_uri": "https://localhost:8080/"
        },
        "id": "ksC_7_KrPxXp",
        "outputId": "88ab3ebc-cd27-40fa-eecc-cecba2abf75e"
      },
      "outputs": [
        {
          "data": {
            "text/plain": [
              "[{'label': 'science', 'score': 0.9990949630737305}]"
            ]
          },
          "execution_count": 31,
          "metadata": {},
          "output_type": "execute_result"
        }
      ],
      "source": [
        "report = \"\"\"The device is about the size of a AA battery, and it has the potential to help a baby or infant heart keep beating in the face of failure.\n",
        "It's called the PediaFlow, an implantable artificial heart for the littlest, most vulnerable humans. James Antaki, a biomedical engineer at Cornell University in New York, has been developing this medical device for the last two decades.\n",
        "As of last spring, it was in the final stages of research and manufacturing before clinical trials, funded by a $6 million, multiyear grant from the Department of Defense.\n",
        "\"\"\"\n",
        "\n",
        "response = classifier(report)\n",
        "response"
      ]
    }
  ],
  "metadata": {
    "accelerator": "GPU",
    "colab": {
      "gpuType": "T4",
      "provenance": []
    },
    "kernelspec": {
      "display_name": "Python 3",
      "name": "python3"
    },
    "language_info": {
      "name": "python"
    },
    "widgets": {
      "application/vnd.jupyter.widget-state+json": {
        "02a902967b524545807d9a09233bea1a": {
          "model_module": "@jupyter-widgets/controls",
          "model_module_version": "1.5.0",
          "model_name": "HTMLModel",
          "state": {
            "_dom_classes": [],
            "_model_module": "@jupyter-widgets/controls",
            "_model_module_version": "1.5.0",
            "_model_name": "HTMLModel",
            "_view_count": null,
            "_view_module": "@jupyter-widgets/controls",
            "_view_module_version": "1.5.0",
            "_view_name": "HTMLView",
            "description": "",
            "description_tooltip": null,
            "layout": "IPY_MODEL_8b06509b1f5942b9b2bc69093c38eaf2",
            "placeholder": "​",
            "style": "IPY_MODEL_87a2bb07754546c3b8ab275b20413829",
            "value": " 400/400 [00:03&lt;00:00, 115.63 examples/s]"
          }
        },
        "1694c47f36c14ad49212b85f4cfb982c": {
          "model_module": "@jupyter-widgets/controls",
          "model_module_version": "1.5.0",
          "model_name": "HBoxModel",
          "state": {
            "_dom_classes": [],
            "_model_module": "@jupyter-widgets/controls",
            "_model_module_version": "1.5.0",
            "_model_name": "HBoxModel",
            "_view_count": null,
            "_view_module": "@jupyter-widgets/controls",
            "_view_module_version": "1.5.0",
            "_view_name": "HBoxView",
            "box_style": "",
            "children": [
              "IPY_MODEL_7b2a01834a1c4000a35f3eda9d6ee8b5",
              "IPY_MODEL_e878923ec5f547f090ee23f01e559ab6",
              "IPY_MODEL_9d7b72c4b26c477c9e5775910d264cc5"
            ],
            "layout": "IPY_MODEL_9b3bbc1608644b1498411d40af45f176"
          }
        },
        "17dfdd9185ab469685939aeede1a3dd1": {
          "model_module": "@jupyter-widgets/controls",
          "model_module_version": "1.5.0",
          "model_name": "DescriptionStyleModel",
          "state": {
            "_model_module": "@jupyter-widgets/controls",
            "_model_module_version": "1.5.0",
            "_model_name": "DescriptionStyleModel",
            "_view_count": null,
            "_view_module": "@jupyter-widgets/base",
            "_view_module_version": "1.2.0",
            "_view_name": "StyleView",
            "description_width": ""
          }
        },
        "1a329b256235426fa3541a22aa4488ff": {
          "model_module": "@jupyter-widgets/base",
          "model_module_version": "1.2.0",
          "model_name": "LayoutModel",
          "state": {
            "_model_module": "@jupyter-widgets/base",
            "_model_module_version": "1.2.0",
            "_model_name": "LayoutModel",
            "_view_count": null,
            "_view_module": "@jupyter-widgets/base",
            "_view_module_version": "1.2.0",
            "_view_name": "LayoutView",
            "align_content": null,
            "align_items": null,
            "align_self": null,
            "border": null,
            "bottom": null,
            "display": null,
            "flex": null,
            "flex_flow": null,
            "grid_area": null,
            "grid_auto_columns": null,
            "grid_auto_flow": null,
            "grid_auto_rows": null,
            "grid_column": null,
            "grid_gap": null,
            "grid_row": null,
            "grid_template_areas": null,
            "grid_template_columns": null,
            "grid_template_rows": null,
            "height": null,
            "justify_content": null,
            "justify_items": null,
            "left": null,
            "margin": null,
            "max_height": null,
            "max_width": null,
            "min_height": null,
            "min_width": null,
            "object_fit": null,
            "object_position": null,
            "order": null,
            "overflow": null,
            "overflow_x": null,
            "overflow_y": null,
            "padding": null,
            "right": null,
            "top": null,
            "visibility": null,
            "width": null
          }
        },
        "318b571704c842eabbd27d8087ce4437": {
          "model_module": "@jupyter-widgets/base",
          "model_module_version": "1.2.0",
          "model_name": "LayoutModel",
          "state": {
            "_model_module": "@jupyter-widgets/base",
            "_model_module_version": "1.2.0",
            "_model_name": "LayoutModel",
            "_view_count": null,
            "_view_module": "@jupyter-widgets/base",
            "_view_module_version": "1.2.0",
            "_view_name": "LayoutView",
            "align_content": null,
            "align_items": null,
            "align_self": null,
            "border": null,
            "bottom": null,
            "display": null,
            "flex": null,
            "flex_flow": null,
            "grid_area": null,
            "grid_auto_columns": null,
            "grid_auto_flow": null,
            "grid_auto_rows": null,
            "grid_column": null,
            "grid_gap": null,
            "grid_row": null,
            "grid_template_areas": null,
            "grid_template_columns": null,
            "grid_template_rows": null,
            "height": null,
            "justify_content": null,
            "justify_items": null,
            "left": null,
            "margin": null,
            "max_height": null,
            "max_width": null,
            "min_height": null,
            "min_width": null,
            "object_fit": null,
            "object_position": null,
            "order": null,
            "overflow": null,
            "overflow_x": null,
            "overflow_y": null,
            "padding": null,
            "right": null,
            "top": null,
            "visibility": null,
            "width": null
          }
        },
        "3f95817d5c7044efab7e37ab3197eff8": {
          "model_module": "@jupyter-widgets/controls",
          "model_module_version": "1.5.0",
          "model_name": "ProgressStyleModel",
          "state": {
            "_model_module": "@jupyter-widgets/controls",
            "_model_module_version": "1.5.0",
            "_model_name": "ProgressStyleModel",
            "_view_count": null,
            "_view_module": "@jupyter-widgets/base",
            "_view_module_version": "1.2.0",
            "_view_name": "StyleView",
            "bar_color": null,
            "description_width": ""
          }
        },
        "490037d9c73247d89e50680fdf9a82ff": {
          "model_module": "@jupyter-widgets/base",
          "model_module_version": "1.2.0",
          "model_name": "LayoutModel",
          "state": {
            "_model_module": "@jupyter-widgets/base",
            "_model_module_version": "1.2.0",
            "_model_name": "LayoutModel",
            "_view_count": null,
            "_view_module": "@jupyter-widgets/base",
            "_view_module_version": "1.2.0",
            "_view_name": "LayoutView",
            "align_content": null,
            "align_items": null,
            "align_self": null,
            "border": null,
            "bottom": null,
            "display": null,
            "flex": null,
            "flex_flow": null,
            "grid_area": null,
            "grid_auto_columns": null,
            "grid_auto_flow": null,
            "grid_auto_rows": null,
            "grid_column": null,
            "grid_gap": null,
            "grid_row": null,
            "grid_template_areas": null,
            "grid_template_columns": null,
            "grid_template_rows": null,
            "height": null,
            "justify_content": null,
            "justify_items": null,
            "left": null,
            "margin": null,
            "max_height": null,
            "max_width": null,
            "min_height": null,
            "min_width": null,
            "object_fit": null,
            "object_position": null,
            "order": null,
            "overflow": null,
            "overflow_x": null,
            "overflow_y": null,
            "padding": null,
            "right": null,
            "top": null,
            "visibility": null,
            "width": null
          }
        },
        "5e1e3e0a62d44b5f972ee09fa11b830d": {
          "model_module": "@jupyter-widgets/base",
          "model_module_version": "1.2.0",
          "model_name": "LayoutModel",
          "state": {
            "_model_module": "@jupyter-widgets/base",
            "_model_module_version": "1.2.0",
            "_model_name": "LayoutModel",
            "_view_count": null,
            "_view_module": "@jupyter-widgets/base",
            "_view_module_version": "1.2.0",
            "_view_name": "LayoutView",
            "align_content": null,
            "align_items": null,
            "align_self": null,
            "border": null,
            "bottom": null,
            "display": null,
            "flex": null,
            "flex_flow": null,
            "grid_area": null,
            "grid_auto_columns": null,
            "grid_auto_flow": null,
            "grid_auto_rows": null,
            "grid_column": null,
            "grid_gap": null,
            "grid_row": null,
            "grid_template_areas": null,
            "grid_template_columns": null,
            "grid_template_rows": null,
            "height": null,
            "justify_content": null,
            "justify_items": null,
            "left": null,
            "margin": null,
            "max_height": null,
            "max_width": null,
            "min_height": null,
            "min_width": null,
            "object_fit": null,
            "object_position": null,
            "order": null,
            "overflow": null,
            "overflow_x": null,
            "overflow_y": null,
            "padding": null,
            "right": null,
            "top": null,
            "visibility": null,
            "width": null
          }
        },
        "6bebf7c0ff0a4f6e9907fe89e37f1afa": {
          "model_module": "@jupyter-widgets/controls",
          "model_module_version": "1.5.0",
          "model_name": "ProgressStyleModel",
          "state": {
            "_model_module": "@jupyter-widgets/controls",
            "_model_module_version": "1.5.0",
            "_model_name": "ProgressStyleModel",
            "_view_count": null,
            "_view_module": "@jupyter-widgets/base",
            "_view_module_version": "1.2.0",
            "_view_name": "StyleView",
            "bar_color": null,
            "description_width": ""
          }
        },
        "72b29dedf78a4f4985f03536ec60c4fd": {
          "model_module": "@jupyter-widgets/controls",
          "model_module_version": "1.5.0",
          "model_name": "FloatProgressModel",
          "state": {
            "_dom_classes": [],
            "_model_module": "@jupyter-widgets/controls",
            "_model_module_version": "1.5.0",
            "_model_name": "FloatProgressModel",
            "_view_count": null,
            "_view_module": "@jupyter-widgets/controls",
            "_view_module_version": "1.5.0",
            "_view_name": "ProgressView",
            "bar_style": "success",
            "description": "",
            "description_tooltip": null,
            "layout": "IPY_MODEL_1a329b256235426fa3541a22aa4488ff",
            "max": 400,
            "min": 0,
            "orientation": "horizontal",
            "style": "IPY_MODEL_3f95817d5c7044efab7e37ab3197eff8",
            "value": 400
          }
        },
        "7b2a01834a1c4000a35f3eda9d6ee8b5": {
          "model_module": "@jupyter-widgets/controls",
          "model_module_version": "1.5.0",
          "model_name": "HTMLModel",
          "state": {
            "_dom_classes": [],
            "_model_module": "@jupyter-widgets/controls",
            "_model_module_version": "1.5.0",
            "_model_name": "HTMLModel",
            "_view_count": null,
            "_view_module": "@jupyter-widgets/controls",
            "_view_module_version": "1.5.0",
            "_view_name": "HTMLView",
            "description": "",
            "description_tooltip": null,
            "layout": "IPY_MODEL_490037d9c73247d89e50680fdf9a82ff",
            "placeholder": "​",
            "style": "IPY_MODEL_cb7d364b3cc14cabb12bbae70f4c4dbf",
            "value": "Map: 100%"
          }
        },
        "8261ed2e60c34b6aba6e29d6d825cd56": {
          "model_module": "@jupyter-widgets/controls",
          "model_module_version": "1.5.0",
          "model_name": "HTMLModel",
          "state": {
            "_dom_classes": [],
            "_model_module": "@jupyter-widgets/controls",
            "_model_module_version": "1.5.0",
            "_model_name": "HTMLModel",
            "_view_count": null,
            "_view_module": "@jupyter-widgets/controls",
            "_view_module_version": "1.5.0",
            "_view_name": "HTMLView",
            "description": "",
            "description_tooltip": null,
            "layout": "IPY_MODEL_e29d719b3f8c416898b175e955a3913c",
            "placeholder": "​",
            "style": "IPY_MODEL_9e404f6478b34ff2baa9b5455e7761cb",
            "value": "Map: 100%"
          }
        },
        "832f90daaa844f6e91c55fa096712640": {
          "model_module": "@jupyter-widgets/controls",
          "model_module_version": "1.5.0",
          "model_name": "HBoxModel",
          "state": {
            "_dom_classes": [],
            "_model_module": "@jupyter-widgets/controls",
            "_model_module_version": "1.5.0",
            "_model_name": "HBoxModel",
            "_view_count": null,
            "_view_module": "@jupyter-widgets/controls",
            "_view_module_version": "1.5.0",
            "_view_name": "HBoxView",
            "box_style": "",
            "children": [
              "IPY_MODEL_8261ed2e60c34b6aba6e29d6d825cd56",
              "IPY_MODEL_72b29dedf78a4f4985f03536ec60c4fd",
              "IPY_MODEL_02a902967b524545807d9a09233bea1a"
            ],
            "layout": "IPY_MODEL_fbfd027e46084e87a9cffcfae7fb6770"
          }
        },
        "87a2bb07754546c3b8ab275b20413829": {
          "model_module": "@jupyter-widgets/controls",
          "model_module_version": "1.5.0",
          "model_name": "DescriptionStyleModel",
          "state": {
            "_model_module": "@jupyter-widgets/controls",
            "_model_module_version": "1.5.0",
            "_model_name": "DescriptionStyleModel",
            "_view_count": null,
            "_view_module": "@jupyter-widgets/base",
            "_view_module_version": "1.2.0",
            "_view_name": "StyleView",
            "description_width": ""
          }
        },
        "8b06509b1f5942b9b2bc69093c38eaf2": {
          "model_module": "@jupyter-widgets/base",
          "model_module_version": "1.2.0",
          "model_name": "LayoutModel",
          "state": {
            "_model_module": "@jupyter-widgets/base",
            "_model_module_version": "1.2.0",
            "_model_name": "LayoutModel",
            "_view_count": null,
            "_view_module": "@jupyter-widgets/base",
            "_view_module_version": "1.2.0",
            "_view_name": "LayoutView",
            "align_content": null,
            "align_items": null,
            "align_self": null,
            "border": null,
            "bottom": null,
            "display": null,
            "flex": null,
            "flex_flow": null,
            "grid_area": null,
            "grid_auto_columns": null,
            "grid_auto_flow": null,
            "grid_auto_rows": null,
            "grid_column": null,
            "grid_gap": null,
            "grid_row": null,
            "grid_template_areas": null,
            "grid_template_columns": null,
            "grid_template_rows": null,
            "height": null,
            "justify_content": null,
            "justify_items": null,
            "left": null,
            "margin": null,
            "max_height": null,
            "max_width": null,
            "min_height": null,
            "min_width": null,
            "object_fit": null,
            "object_position": null,
            "order": null,
            "overflow": null,
            "overflow_x": null,
            "overflow_y": null,
            "padding": null,
            "right": null,
            "top": null,
            "visibility": null,
            "width": null
          }
        },
        "9b3bbc1608644b1498411d40af45f176": {
          "model_module": "@jupyter-widgets/base",
          "model_module_version": "1.2.0",
          "model_name": "LayoutModel",
          "state": {
            "_model_module": "@jupyter-widgets/base",
            "_model_module_version": "1.2.0",
            "_model_name": "LayoutModel",
            "_view_count": null,
            "_view_module": "@jupyter-widgets/base",
            "_view_module_version": "1.2.0",
            "_view_name": "LayoutView",
            "align_content": null,
            "align_items": null,
            "align_self": null,
            "border": null,
            "bottom": null,
            "display": null,
            "flex": null,
            "flex_flow": null,
            "grid_area": null,
            "grid_auto_columns": null,
            "grid_auto_flow": null,
            "grid_auto_rows": null,
            "grid_column": null,
            "grid_gap": null,
            "grid_row": null,
            "grid_template_areas": null,
            "grid_template_columns": null,
            "grid_template_rows": null,
            "height": null,
            "justify_content": null,
            "justify_items": null,
            "left": null,
            "margin": null,
            "max_height": null,
            "max_width": null,
            "min_height": null,
            "min_width": null,
            "object_fit": null,
            "object_position": null,
            "order": null,
            "overflow": null,
            "overflow_x": null,
            "overflow_y": null,
            "padding": null,
            "right": null,
            "top": null,
            "visibility": null,
            "width": null
          }
        },
        "9d7b72c4b26c477c9e5775910d264cc5": {
          "model_module": "@jupyter-widgets/controls",
          "model_module_version": "1.5.0",
          "model_name": "HTMLModel",
          "state": {
            "_dom_classes": [],
            "_model_module": "@jupyter-widgets/controls",
            "_model_module_version": "1.5.0",
            "_model_name": "HTMLModel",
            "_view_count": null,
            "_view_module": "@jupyter-widgets/controls",
            "_view_module_version": "1.5.0",
            "_view_name": "HTMLView",
            "description": "",
            "description_tooltip": null,
            "layout": "IPY_MODEL_318b571704c842eabbd27d8087ce4437",
            "placeholder": "​",
            "style": "IPY_MODEL_17dfdd9185ab469685939aeede1a3dd1",
            "value": " 100/100 [00:00&lt;00:00, 225.18 examples/s]"
          }
        },
        "9e404f6478b34ff2baa9b5455e7761cb": {
          "model_module": "@jupyter-widgets/controls",
          "model_module_version": "1.5.0",
          "model_name": "DescriptionStyleModel",
          "state": {
            "_model_module": "@jupyter-widgets/controls",
            "_model_module_version": "1.5.0",
            "_model_name": "DescriptionStyleModel",
            "_view_count": null,
            "_view_module": "@jupyter-widgets/base",
            "_view_module_version": "1.2.0",
            "_view_name": "StyleView",
            "description_width": ""
          }
        },
        "cb7d364b3cc14cabb12bbae70f4c4dbf": {
          "model_module": "@jupyter-widgets/controls",
          "model_module_version": "1.5.0",
          "model_name": "DescriptionStyleModel",
          "state": {
            "_model_module": "@jupyter-widgets/controls",
            "_model_module_version": "1.5.0",
            "_model_name": "DescriptionStyleModel",
            "_view_count": null,
            "_view_module": "@jupyter-widgets/base",
            "_view_module_version": "1.2.0",
            "_view_name": "StyleView",
            "description_width": ""
          }
        },
        "e29d719b3f8c416898b175e955a3913c": {
          "model_module": "@jupyter-widgets/base",
          "model_module_version": "1.2.0",
          "model_name": "LayoutModel",
          "state": {
            "_model_module": "@jupyter-widgets/base",
            "_model_module_version": "1.2.0",
            "_model_name": "LayoutModel",
            "_view_count": null,
            "_view_module": "@jupyter-widgets/base",
            "_view_module_version": "1.2.0",
            "_view_name": "LayoutView",
            "align_content": null,
            "align_items": null,
            "align_self": null,
            "border": null,
            "bottom": null,
            "display": null,
            "flex": null,
            "flex_flow": null,
            "grid_area": null,
            "grid_auto_columns": null,
            "grid_auto_flow": null,
            "grid_auto_rows": null,
            "grid_column": null,
            "grid_gap": null,
            "grid_row": null,
            "grid_template_areas": null,
            "grid_template_columns": null,
            "grid_template_rows": null,
            "height": null,
            "justify_content": null,
            "justify_items": null,
            "left": null,
            "margin": null,
            "max_height": null,
            "max_width": null,
            "min_height": null,
            "min_width": null,
            "object_fit": null,
            "object_position": null,
            "order": null,
            "overflow": null,
            "overflow_x": null,
            "overflow_y": null,
            "padding": null,
            "right": null,
            "top": null,
            "visibility": null,
            "width": null
          }
        },
        "e878923ec5f547f090ee23f01e559ab6": {
          "model_module": "@jupyter-widgets/controls",
          "model_module_version": "1.5.0",
          "model_name": "FloatProgressModel",
          "state": {
            "_dom_classes": [],
            "_model_module": "@jupyter-widgets/controls",
            "_model_module_version": "1.5.0",
            "_model_name": "FloatProgressModel",
            "_view_count": null,
            "_view_module": "@jupyter-widgets/controls",
            "_view_module_version": "1.5.0",
            "_view_name": "ProgressView",
            "bar_style": "success",
            "description": "",
            "description_tooltip": null,
            "layout": "IPY_MODEL_5e1e3e0a62d44b5f972ee09fa11b830d",
            "max": 100,
            "min": 0,
            "orientation": "horizontal",
            "style": "IPY_MODEL_6bebf7c0ff0a4f6e9907fe89e37f1afa",
            "value": 100
          }
        },
        "fbfd027e46084e87a9cffcfae7fb6770": {
          "model_module": "@jupyter-widgets/base",
          "model_module_version": "1.2.0",
          "model_name": "LayoutModel",
          "state": {
            "_model_module": "@jupyter-widgets/base",
            "_model_module_version": "1.2.0",
            "_model_name": "LayoutModel",
            "_view_count": null,
            "_view_module": "@jupyter-widgets/base",
            "_view_module_version": "1.2.0",
            "_view_name": "LayoutView",
            "align_content": null,
            "align_items": null,
            "align_self": null,
            "border": null,
            "bottom": null,
            "display": null,
            "flex": null,
            "flex_flow": null,
            "grid_area": null,
            "grid_auto_columns": null,
            "grid_auto_flow": null,
            "grid_auto_rows": null,
            "grid_column": null,
            "grid_gap": null,
            "grid_row": null,
            "grid_template_areas": null,
            "grid_template_columns": null,
            "grid_template_rows": null,
            "height": null,
            "justify_content": null,
            "justify_items": null,
            "left": null,
            "margin": null,
            "max_height": null,
            "max_width": null,
            "min_height": null,
            "min_width": null,
            "object_fit": null,
            "object_position": null,
            "order": null,
            "overflow": null,
            "overflow_x": null,
            "overflow_y": null,
            "padding": null,
            "right": null,
            "top": null,
            "visibility": null,
            "width": null
          }
        }
      }
    }
  },
  "nbformat": 4,
  "nbformat_minor": 0
}
